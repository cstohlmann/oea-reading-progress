{
  "cells": [
    {
      "cell_type": "markdown",
      "source": [
        "# Test for processing Microsoft Education Insights: Reading Progress data\r\n",
        "\r\n",
        "This notebook demonstrates possible data processing and exploration of the Microsoft Education Insights data, using the OEA_py class notebook. Specifically, this notebook and other Reading_Progress module assets are responsible for data manipulation pertaining to Insights reading progress. \r\n",
        "\r\n",
        "Most of the data processing done in this notebook are also achieved by executing the Reading Progress module main pipeline. This notebook is designed as an alternate approach to the same processing, as well as module data exploration and visualization. \r\n",
        "\r\n",
        "Directory landing is outlined in each step\r\n",
        "\r\n",
        "The steps are clearly outlined below:\r\n",
        "1. Set the workspace,\r\n",
        "2. Land Insights/Reading Progress Module K-12 Test Data,\r\n",
        "3. Ingest the Insights/Reading Progress Module Test Data,\r\n",
        "4. Reading Progress Schema Correction,\r\n",
        "5. Refine the Reading Progress Module Test Data, \r\n",
        "6. Demonstrate Lake Database Queries/Final Remarks, and\r\n",
        "7. Appendix"
      ],
      "metadata": {
        "nteract": {
          "transient": {
            "deleting": false
          }
        }
      }
    },
    {
      "cell_type": "code",
      "source": [
        "%run OEA_py"
      ],
      "outputs": [
        {
          "output_type": "display_data",
          "data": {
            "application/vnd.livy.statement-meta+json": {
              "spark_pool": null,
              "session_id": "146",
              "statement_id": -1,
              "state": "finished",
              "livy_statement_state": "available",
              "queued_time": "2023-02-21T21:51:55.0421491Z",
              "session_start_time": null,
              "execution_start_time": "2023-02-21T21:55:12.8363051Z",
              "execution_finish_time": "2023-02-21T21:55:12.8365076Z",
              "spark_jobs": null,
              "parent_msg_id": "41466b8c-dc0d-4e00-bc99-8122342cc1d4"
            },
            "text/plain": "StatementMeta(, 146, -1, Finished, Available)"
          },
          "metadata": {}
        },
        {
          "output_type": "stream",
          "name": "stdout",
          "text": [
            "2023-02-21 21:55:11,595 - OEA - INFO - Now using workspace: dev\n2023-02-21 21:55:11,596 - OEA - INFO - OEA initialized.\n"
          ]
        }
      ],
      "execution_count": 2,
      "metadata": {
        "jupyter": {
          "source_hidden": false,
          "outputs_hidden": false
        },
        "nteract": {
          "transient": {
            "deleting": false
          }
        }
      }
    },
    {
      "cell_type": "code",
      "source": [
        "# 1) set the workspace (this determines where in the data lake you'll be writing to and reading from).\r\n",
        "# You can work in 'dev', 'prod', or a sandbox with any name you choose.\r\n",
        "# For example, Sam the developer can create a 'sam' workspace and expect to find his datasets in the data lake under oea/sandboxes/sam\r\n",
        "oea.set_workspace('sam')"
      ],
      "outputs": [
        {
          "output_type": "display_data",
          "data": {
            "application/vnd.livy.statement-meta+json": {
              "spark_pool": null,
              "session_id": null,
              "statement_id": null,
              "state": "cancelled",
              "livy_statement_state": null,
              "queued_time": "2023-02-21T21:51:56.8771574Z",
              "session_start_time": null,
              "execution_start_time": null,
              "execution_finish_time": "2023-02-21T21:51:58.7702931Z",
              "spark_jobs": null,
              "parent_msg_id": "4be8ac32-546a-4bdd-93d3-fedb88901885"
            },
            "text/plain": "StatementMeta(, , , Cancelled, )"
          },
          "metadata": {}
        }
      ],
      "execution_count": null,
      "metadata": {
        "jupyter": {
          "source_hidden": false,
          "outputs_hidden": false
        },
        "nteract": {
          "transient": {
            "deleting": false
          }
        }
      }
    },
    {
      "cell_type": "markdown",
      "source": [
        "## 2.) Land Insights/Reading Progress Module K-12 Test Data\r\n",
        "\r\n",
        "Directory: ```GitHub.com (raw data) -> stage1/Transactional/M365```\r\n",
        "\r\n",
        "Run the code block for ingesting Insights K-12 test data (**NOTE**: This is the same test data used for this Reading Progress module).\r\n"
      ],
      "metadata": {
        "nteract": {
          "transient": {
            "deleting": false
          }
        }
      }
    },
    {
      "cell_type": "code",
      "source": [
        "# 2.1) Land batch data files into stage1 of the data lake.\r\n",
        "# In this example we pull Insights/Reading Progress K-12 test csv data files from github and land it in oea/sandboxes/sam/stage1/Transactional/M365/v1.14\r\n",
        "data = requests.get('https://raw.githubusercontent.com/microsoft/OpenEduAnalytics/main/modules/module_catalog/Microsoft_Education_Insights/test_data/k12_test_data/activity/2022-01-28/ApplicationUsage.csv').text\r\n",
        "oea.land(data, 'M365/v1.14/activity', 'activity_k12_test_data.csv', oea.ADDITIVE_BATCH_DATA)\r\n",
        "\r\n",
        "data = requests.get('https://raw.githubusercontent.com/microsoft/OpenEduAnalytics/main/modules/module_catalog/Microsoft_Education_Insights/test_data/k12_test_data/roster/2022-01-28T06-16-22/AadGroup/aadgroup.csv').text\r\n",
        "oea.land(data, 'M365/v1.14/AadGroup', 'aadgroup_k12_test_data.csv', oea.SNAPSHOT_BATCH_DATA)\r\n",
        "data = requests.get('https://raw.githubusercontent.com/microsoft/OpenEduAnalytics/main/modules/module_catalog/Microsoft_Education_Insights/test_data/k12_test_data/roster/2022-01-28T06-16-22/AadGroupMembership/aadgroupmembership.csv').text\r\n",
        "oea.land(data, 'M365/v1.14/AadGroupMembership', 'aadgroupmembership_k12_test_data.csv', oea.SNAPSHOT_BATCH_DATA)\r\n",
        "data = requests.get('https://raw.githubusercontent.com/microsoft/OpenEduAnalytics/main/modules/module_catalog/Microsoft_Education_Insights/test_data/k12_test_data/roster/2022-01-28T06-16-22/AadUser/aaduser.csv').text\r\n",
        "oea.land(data, 'M365/v1.14/AadUser', 'aaduser_k12_test_data.csv', oea.SNAPSHOT_BATCH_DATA)\r\n",
        "data = requests.get('https://raw.githubusercontent.com/microsoft/OpenEduAnalytics/main/modules/module_catalog/Microsoft_Education_Insights/test_data/k12_test_data/roster/2022-01-28T06-16-22/AadUserPersonMapping/aaduserpersonmapping.csv').text\r\n",
        "oea.land(data, 'M365/v1.14/AadUserPersonMapping', 'aaduserpersonmapping_k12_test_data.csv', oea.SNAPSHOT_BATCH_DATA)\r\n",
        "data = requests.get('https://raw.githubusercontent.com/microsoft/OpenEduAnalytics/main/modules/module_catalog/Microsoft_Education_Insights/test_data/k12_test_data/roster/2022-01-28T06-16-22/Course/course.csv').text\r\n",
        "oea.land(data, 'M365/v1.14/Course', 'course_k12_test_data.csv', oea.SNAPSHOT_BATCH_DATA)\r\n",
        "data = requests.get('https://raw.githubusercontent.com/microsoft/OpenEduAnalytics/main/modules/module_catalog/Microsoft_Education_Insights/test_data/k12_test_data/roster/2022-01-28T06-16-22/CourseGradeLevel/coursegradelevel.csv').text\r\n",
        "oea.land(data, 'M365/v1.14/CourseGradeLevel', 'coursegradelevel_k12_test_data.csv', oea.SNAPSHOT_BATCH_DATA)\r\n",
        "data = requests.get('https://raw.githubusercontent.com/microsoft/OpenEduAnalytics/main/modules/module_catalog/Microsoft_Education_Insights/test_data/k12_test_data/roster/2022-01-28T06-16-22/CourseSubject/coursesubject.csv').text\r\n",
        "oea.land(data, 'M365/v1.14/CourseSubject', 'coursesubject_k12_test_data.csv', oea.SNAPSHOT_BATCH_DATA)\r\n",
        "data = requests.get('https://raw.githubusercontent.com/microsoft/OpenEduAnalytics/main/modules/module_catalog/Microsoft_Education_Insights/test_data/k12_test_data/roster/2022-01-28T06-16-22/Enrollment/enrollment.csv').text\r\n",
        "oea.land(data, 'M365/v1.14/Enrollment', 'enrollment_k12_test_data.csv', oea.SNAPSHOT_BATCH_DATA)\r\n",
        "data = requests.get('https://raw.githubusercontent.com/microsoft/OpenEduAnalytics/main/modules/module_catalog/Microsoft_Education_Insights/test_data/k12_test_data/roster/2022-01-28T06-16-22/Organization/organization.csv').text\r\n",
        "oea.land(data, 'M365/v1.14/Organization', 'organization_k12_test_data.csv', oea.SNAPSHOT_BATCH_DATA)\r\n",
        "data = requests.get('https://raw.githubusercontent.com/microsoft/OpenEduAnalytics/main/modules/module_catalog/Microsoft_Education_Insights/test_data/k12_test_data/roster/2022-01-28T06-16-22/Person/person.csv').text\r\n",
        "oea.land(data, 'M365/v1.14/Person', 'person_k12_test_data.csv', oea.SNAPSHOT_BATCH_DATA)\r\n",
        "data = requests.get('https://raw.githubusercontent.com/microsoft/OpenEduAnalytics/main/modules/module_catalog/Microsoft_Education_Insights/test_data/k12_test_data/roster/2022-01-28T06-16-22/PersonDemographic/persondemographic.csv').text\r\n",
        "oea.land(data, 'M365/v1.14/PersonDemographic', 'persondemographic_k12_test_data.csv', oea.SNAPSHOT_BATCH_DATA)\r\n",
        "data = requests.get('https://raw.githubusercontent.com/microsoft/OpenEduAnalytics/main/modules/module_catalog/Microsoft_Education_Insights/test_data/k12_test_data/roster/2022-01-28T06-16-22/PersonDemographicEthnicity/persondemographicethnicity.csv').text\r\n",
        "oea.land(data, 'M365/v1.14/PersonDemographicEthnicity', 'persondemographicethnicity_k12_test_data.csv', oea.SNAPSHOT_BATCH_DATA)\r\n",
        "data = requests.get('https://raw.githubusercontent.com/microsoft/OpenEduAnalytics/main/modules/module_catalog/Microsoft_Education_Insights/test_data/k12_test_data/roster/2022-01-28T06-16-22/PersonDemographicPersonFlag/persondemographicpersonflag.csv').text\r\n",
        "oea.land(data, 'M365/v1.14/PersonDemographicPersonFlag', 'persondemographicpersonflag_k12_test_data.csv', oea.SNAPSHOT_BATCH_DATA)\r\n",
        "data = requests.get('https://raw.githubusercontent.com/microsoft/OpenEduAnalytics/main/modules/module_catalog/Microsoft_Education_Insights/test_data/k12_test_data/roster/2022-01-28T06-16-22/PersonDemographicRace/persondemographicrace.csv').text\r\n",
        "oea.land(data, 'M365/v1.14/PersonDemographicRace', 'persondemographicrace_k12_test_data.csv', oea.SNAPSHOT_BATCH_DATA)\r\n",
        "data = requests.get('https://raw.githubusercontent.com/microsoft/OpenEduAnalytics/main/modules/module_catalog/Microsoft_Education_Insights/test_data/k12_test_data/roster/2022-01-28T06-16-22/PersonEmailAddress/personemailaddress.csv').text\r\n",
        "oea.land(data, 'M365/v1.14/PersonEmailAddress', 'personemailaddress_k12_test_data.csv', oea.SNAPSHOT_BATCH_DATA)\r\n",
        "data = requests.get('https://raw.githubusercontent.com/microsoft/OpenEduAnalytics/main/modules/module_catalog/Microsoft_Education_Insights/test_data/k12_test_data/roster/2022-01-28T06-16-22/PersonIdentifier/personidentifier.csv').text\r\n",
        "oea.land(data, 'M365/v1.14/PersonIdentifier', 'personidentifier_k12_test_data.csv', oea.SNAPSHOT_BATCH_DATA)\r\n",
        "data = requests.get('https://raw.githubusercontent.com/microsoft/OpenEduAnalytics/main/modules/module_catalog/Microsoft_Education_Insights/test_data/k12_test_data/roster/2022-01-28T06-16-22/PersonOrganizationRole/personorganizationrole.csv').text\r\n",
        "oea.land(data, 'M365/v1.14/PersonOrganizationRole', 'personorganizationrole_k12_test_data.csv', oea.SNAPSHOT_BATCH_DATA)\r\n",
        "data = requests.get('https://raw.githubusercontent.com/microsoft/OpenEduAnalytics/main/modules/module_catalog/Microsoft_Education_Insights/test_data/k12_test_data/roster/2022-01-28T06-16-22/PersonPhoneNumber/personphonenumber.csv').text\r\n",
        "oea.land(data, 'M365/v1.14/PersonPhoneNumber', 'personphonenumber_k12_test_data.csv', oea.SNAPSHOT_BATCH_DATA)\r\n",
        "data = requests.get('https://raw.githubusercontent.com/microsoft/OpenEduAnalytics/main/modules/module_catalog/Microsoft_Education_Insights/test_data/k12_test_data/roster/2022-01-28T06-16-22/PersonRelationship/personrelationship.csv').text\r\n",
        "oea.land(data, 'M365/v1.14/PersonRelationship', 'personrelationship_k12_test_data.csv', oea.SNAPSHOT_BATCH_DATA)\r\n",
        "data = requests.get('https://raw.githubusercontent.com/microsoft/OpenEduAnalytics/main/modules/module_catalog/Microsoft_Education_Insights/test_data/k12_test_data/roster/2022-01-28T06-16-22/RefDefinition/refdefinition.csv').text\r\n",
        "oea.land(data, 'M365/v1.14/RefDefinition', 'refdefinition_k12_test_data.csv', oea.SNAPSHOT_BATCH_DATA)\r\n",
        "data = requests.get('https://raw.githubusercontent.com/microsoft/OpenEduAnalytics/main/modules/module_catalog/Microsoft_Education_Insights/test_data/k12_test_data/roster/2022-01-28T06-16-22/RefTranslation/reftranslation.csv').text\r\n",
        "oea.land(data, 'M365/v1.14/RefTranslation', 'reftranslation_k12_test_data.csv', oea.SNAPSHOT_BATCH_DATA)\r\n",
        "data = requests.get('https://raw.githubusercontent.com/microsoft/OpenEduAnalytics/main/modules/module_catalog/Microsoft_Education_Insights/test_data/k12_test_data/roster/2022-01-28T06-16-22/Section/section.csv').text\r\n",
        "oea.land(data, 'M365/v1.14/Section', 'section_k12_test_data.csv', oea.SNAPSHOT_BATCH_DATA)\r\n",
        "data = requests.get('https://raw.githubusercontent.com/microsoft/OpenEduAnalytics/main/modules/module_catalog/Microsoft_Education_Insights/test_data/k12_test_data/roster/2022-01-28T06-16-22/SectionGradeLevel/sectiongradelevel.csv').text\r\n",
        "oea.land(data, 'M365/v1.14/SectionGradeLevel', 'sectiongradelevel_k12_test_data.csv', oea.SNAPSHOT_BATCH_DATA)\r\n",
        "data = requests.get('https://raw.githubusercontent.com/microsoft/OpenEduAnalytics/main/modules/module_catalog/Microsoft_Education_Insights/test_data/k12_test_data/roster/2022-01-28T06-16-22/SectionSession/sectionsession.csv').text\r\n",
        "oea.land(data, 'M365/v1.14/SectionSession', 'sectionsession_k12_test_data.csv', oea.SNAPSHOT_BATCH_DATA)\r\n",
        "data = requests.get('https://raw.githubusercontent.com/microsoft/OpenEduAnalytics/main/modules/module_catalog/Microsoft_Education_Insights/test_data/k12_test_data/roster/2022-01-28T06-16-22/SectionSubject/sectionsubject.csv').text\r\n",
        "oea.land(data, 'M365/v1.14/SectionSubject', 'sectionsubject_k12_test_data.csv', oea.SNAPSHOT_BATCH_DATA)\r\n",
        "data = requests.get('https://raw.githubusercontent.com/microsoft/OpenEduAnalytics/main/modules/module_catalog/Microsoft_Education_Insights/test_data/k12_test_data/roster/2022-01-28T06-16-22/Session/session.csv').text\r\n",
        "oea.land(data, 'M365/v1.14/Session', 'session_k12_test_data.csv', oea.SNAPSHOT_BATCH_DATA)\r\n",
        "data = requests.get('https://raw.githubusercontent.com/microsoft/OpenEduAnalytics/main/modules/module_catalog/Microsoft_Education_Insights/test_data/k12_test_data/roster/2022-01-28T06-16-22/SourceSystem/sourcesystem.csv').text\r\n",
        "oea.land(data, 'M365/v1.14/SourceSystem', 'sourcesystem_k12_test_data.csv', oea.SNAPSHOT_BATCH_DATA)"
      ],
      "outputs": [
        {
          "output_type": "display_data",
          "data": {
            "application/vnd.livy.statement-meta+json": {
              "spark_pool": "spark3p2sm",
              "session_id": "146",
              "statement_id": 2,
              "state": "finished",
              "livy_statement_state": "available",
              "queued_time": "2023-02-21T21:52:22.469201Z",
              "session_start_time": null,
              "execution_start_time": "2023-02-21T21:55:12.9681934Z",
              "execution_finish_time": "2023-02-21T21:55:25.7652786Z",
              "spark_jobs": null,
              "parent_msg_id": "b8377169-aa8a-48e0-a4f5-8339da1a83e8"
            },
            "text/plain": "StatementMeta(spark3p2sm, 146, 2, Finished, Available)"
          },
          "metadata": {}
        },
        {
          "output_type": "execute_result",
          "execution_count": 7,
          "data": {
            "text/plain": "'stage1/Transactional/M365/v1.14/SourceSystem/snapshot_batch_data/rundate=2023-02-21 21:55:23/sourcesystem_k12_test_data.csv'"
          },
          "metadata": {}
        }
      ],
      "execution_count": 3,
      "metadata": {
        "jupyter": {
          "source_hidden": false,
          "outputs_hidden": false
        },
        "nteract": {
          "transient": {
            "deleting": false
          }
        }
      }
    },
    {
      "cell_type": "markdown",
      "source": [
        "## 3.) Ingest the Insights/Reading Progress Module Test Data\r\n",
        "\r\n",
        "Directory: ```stage1/Transactional/M365 -> stage2/Ingested/reading_progress```.\r\n",
        "\r\n",
        "Both test datasets are formatted exactly as the Insights data - thus, there will be no column names or correct dtypes, initially. Ingest the data using the ```ingest_reading_prog()``` function, and next step will correct the table schemas.\r\n",
        "\r\n",
        "**NOTE:**\r\n",
        " - AADGroupMembership table is not ingested, since it is not used for this Reading Progress module. If desired, refer to the Insights module and add the same processing as needed."
      ],
      "metadata": {
        "nteract": {
          "transient": {
            "deleting": false
          }
        }
      }
    },
    {
      "cell_type": "code",
      "source": [
        "# this method is almost identical to the ingest function in the OEA framework, except with the additional function to change the ingested directory \r\n",
        "def ingest_reading_prog(entity_path, write_entity_path, primary_key='id', options={}):\r\n",
        "    \"\"\" Ingests the data for the entity in the given path.\r\n",
        "        CSV files are expected to have a header row by default, and JSON files are expected to have complete JSON docs on each row in the file.\r\n",
        "        To specify options that are different from these defaults, use the options param.\r\n",
        "        eg, ingest('contoso_sis/v0.1/students') # ingests all entities found in that path\r\n",
        "        eg, ingest('contoso_sis/v0.1/students', options={'header':False}) # for CSV files that don't have a header\r\n",
        "    \"\"\"\r\n",
        "    primary_key = oea.fix_column_name(primary_key) # fix the column name, in case it has a space in it or some other invalid character\r\n",
        "    ingested_path = f'stage2/Ingested/{write_entity_path}'\r\n",
        "    raw_path = f'stage1/Transactional/{entity_path}'\r\n",
        "    batch_type, source_data_format = oea.get_batch_info(raw_path)\r\n",
        "    logger.info(f'Ingesting from: {raw_path}, batch type of: {batch_type}, source data format of: {source_data_format}')\r\n",
        "    source_url = oea.to_url(f'{raw_path}/{batch_type}_batch_data')\r\n",
        "\r\n",
        "    if batch_type == 'snapshot': source_url = f'{source_url}/{oea.get_latest_folder(source_url)}' \r\n",
        "            \r\n",
        "    logger.debug(f'Processing {batch_type} data from: {source_url} and writing out to: {ingested_path}')\r\n",
        "    if batch_type == 'snapshot':\r\n",
        "        def batch_func(df): oea.overwrite(df, ingested_path, primary_key)\r\n",
        "    elif batch_type == 'additive':\r\n",
        "        def batch_func(df): oea.append(df, ingested_path, primary_key)\r\n",
        "    elif batch_type == 'delta':\r\n",
        "        def batch_func(df): oea.upsert(df, ingested_path, primary_key)\r\n",
        "    else:\r\n",
        "        raise ValueError(\"No valid batch folder was found at that path (expected to find a single folder with one of the following names: snapshot_batch_data, additive_batch_data, or delta_batch_data). Are you sure you have the right path?\")                      \r\n",
        "\r\n",
        "    if options == None: options = {}\r\n",
        "    options['format'] = source_data_format # eg, 'csv', 'json'\r\n",
        "    if source_data_format == 'csv' and (not 'header' in options or options['header'] == None): options['header'] = True  # default to expecting a header in csv files\r\n",
        "\r\n",
        "    number_of_new_inbound_rows = oea.process(source_url, batch_func, options)\r\n",
        "    if number_of_new_inbound_rows > 0:    \r\n",
        "        oea.add_to_lake_db(ingested_path)\r\n",
        "    return number_of_new_inbound_rows"
      ],
      "outputs": [
        {
          "output_type": "display_data",
          "data": {
            "application/vnd.livy.statement-meta+json": {
              "spark_pool": "spark3p2sm",
              "session_id": "146",
              "statement_id": 3,
              "state": "finished",
              "livy_statement_state": "available",
              "queued_time": "2023-02-21T21:53:04.8686034Z",
              "session_start_time": null,
              "execution_start_time": "2023-02-21T21:55:25.9060379Z",
              "execution_finish_time": "2023-02-21T21:55:26.065789Z",
              "spark_jobs": null,
              "parent_msg_id": "7ae8bc34-50ea-41e7-8f50-4bc3af34ade3"
            },
            "text/plain": "StatementMeta(spark3p2sm, 146, 3, Finished, Available)"
          },
          "metadata": {}
        }
      ],
      "execution_count": 4,
      "metadata": {
        "jupyter": {
          "source_hidden": false,
          "outputs_hidden": false
        },
        "nteract": {
          "transient": {
            "deleting": false
          }
        }
      }
    },
    {
      "cell_type": "code",
      "source": [
        "# 3) The next step is to ingest the batch data into stage2\r\n",
        "# Note that when you run this the first time, you'll see an info message like \"Number of new inbound rows processed: 2\".\r\n",
        "# If you run this a second time, the number of inbound rows processed will be 0 because the ingestion uses spark structured streaming to keep track of what data has already been processed.\r\n",
        "options = {'header':False}\r\n",
        "ingest_reading_prog(f'M365/v1.14/activity', f'reading_progress/v0.1/activity', '_c3', options)\r\n",
        "ingest_reading_prog(f'M365/v1.14/AadGroup', f'reading_progress/v0.1/AadGroup', '_c0', options)\r\n",
        "ingest_reading_prog(f'M365/v1.14/AadUser', f'reading_progress/v0.1/AadUser', '_c0', options)\r\n",
        "ingest_reading_prog(f'M365/v1.14/AadUserPersonMapping', f'reading_progress/v0.1/AadUserPersonMapping', '_c0', options)\r\n",
        "ingest_reading_prog(f'M365/v1.14/Course', f'reading_progress/v0.1/Course', '_c0', options)\r\n",
        "ingest_reading_prog(f'M365/v1.14/CourseGradeLevel', f'reading_progress/v0.1/CourseGradeLevel', '_c0', options)\r\n",
        "ingest_reading_prog(f'M365/v1.14/CourseSubject', f'reading_progress/v0.1/CourseSubject', '_c0', options)\r\n",
        "ingest_reading_prog(f'M365/v1.14/Enrollment', f'reading_progress/v0.1/Enrollment', '_c0', options)\r\n",
        "ingest_reading_prog(f'M365/v1.14/Organization', f'reading_progress/v0.1/Organization', '_c0', options)\r\n",
        "ingest_reading_prog(f'M365/v1.14/Person', f'reading_progress/v0.1/Person', '_c0', options)\r\n",
        "ingest_reading_prog(f'M365/v1.14/PersonDemographic', f'reading_progress/v0.1/PersonDemographic', '_c0', options)\r\n",
        "ingest_reading_prog(f'M365/v1.14/PersonDemographicEthnicity', f'reading_progress/v0.1/PersonDemographicEthnicity', '_c0', options)\r\n",
        "ingest_reading_prog(f'M365/v1.14/PersonDemographicPersonFlag', f'reading_progress/v0.1/PersonDemographicPersonFlag', '_c0', options)\r\n",
        "ingest_reading_prog(f'M365/v1.14/PersonDemographicRace', f'reading_progress/v0.1/PersonDemographicRace', '_c0', options)\r\n",
        "ingest_reading_prog(f'M365/v1.14/PersonEmailAddress', f'reading_progress/v0.1/PersonEmailAddress', '_c0', options)\r\n",
        "ingest_reading_prog(f'M365/v1.14/PersonIdentifier', f'reading_progress/v0.1/PersonIdentifier', '_c0', options)\r\n",
        "ingest_reading_prog(f'M365/v1.14/PersonOrganizationRole', f'reading_progress/v0.1/PersonOrganizationRole', '_c0', options)\r\n",
        "ingest_reading_prog(f'M365/v1.14/PersonPhoneNumber', f'reading_progress/v0.1/PersonPhoneNumber', '_c0', options)\r\n",
        "#ingest_reading_prog(f'M365/v1.14/PersonRelationship', f'reading_progress/v0.1/PersonRelationship', '_c0', options) # <- no test data currently\r\n",
        "ingest_reading_prog(f'M365/v1.14/RefDefinition', f'reading_progress/v0.1/RefDefinition', '_c0', options)\r\n",
        "#ingest_reading_prog(f'M365/v1.14/RefTranslation', f'reading_progress/v0.1/RefTranslation', '_c0', options) # <- no test data currently\r\n",
        "ingest_reading_prog(f'M365/v1.14/Section', f'reading_progress/v0.1/Section', '_c0', options)\r\n",
        "ingest_reading_prog(f'M365/v1.14/SectionGradeLevel', f'reading_progress/v0.1/SectionGradeLevel', '_c0', options)\r\n",
        "ingest_reading_prog(f'M365/v1.14/SectionSession', f'reading_progress/v0.1/SectionSession', '_c0', options)\r\n",
        "ingest_reading_prog(f'M365/v1.14/SectionSubject', f'reading_progress/v0.1/SectionSubject', '_c0', options)\r\n",
        "ingest_reading_prog(f'M365/v1.14/Session', f'reading_progress/v0.1/Session', '_c0', options)\r\n",
        "ingest_reading_prog(f'M365/v1.14/SourceSystem', f'reading_progress/v0.1/SourceSystem', '_c0', options)"
      ],
      "outputs": [
        {
          "output_type": "display_data",
          "data": {
            "application/vnd.livy.statement-meta+json": {
              "spark_pool": "spark3p2sm",
              "session_id": "146",
              "statement_id": 4,
              "state": "finished",
              "livy_statement_state": "available",
              "queued_time": "2023-02-21T21:53:18.3848545Z",
              "session_start_time": null,
              "execution_start_time": "2023-02-21T21:55:26.219167Z",
              "execution_finish_time": "2023-02-21T21:59:22.227727Z",
              "spark_jobs": null,
              "parent_msg_id": "09357de4-2f0f-4a76-aafd-795a008dabe9"
            },
            "text/plain": "StatementMeta(spark3p2sm, 146, 4, Finished, Available)"
          },
          "metadata": {}
        },
        {
          "output_type": "stream",
          "name": "stdout",
          "text": [
            "2023-02-21 21:55:26,455 - OEA - INFO - Ingesting from: stage1/Transactional/M365/v1.14/activity, batch type of: additive, source data format of: csv\n2023-02-21 21:55:42,385 - py4j.java_gateway - INFO - Callback Server Starting\n2023-02-21 21:55:42,395 - py4j.java_gateway - INFO - Socket listening on ('127.0.0.1', 40563)\n2023-02-21 21:55:44,219 - py4j.java_gateway - INFO - Callback Connection ready to receive messages\n2023-02-21 21:55:44,240 - py4j.java_gateway - INFO - Received command c on object id p0\n2023-02-21 21:56:21,209 - OEA - INFO - Number of new inbound rows processed: 52658\n2023-02-21 21:56:38,711 - OEA - INFO - Ingesting from: stage1/Transactional/M365/v1.14/AadGroup, batch type of: snapshot, source data format of: csv\n2023-02-21 21:56:40,511 - py4j.java_gateway - INFO - Received command c on object id p1\n2023-02-21 21:56:47,649 - OEA - INFO - Number of new inbound rows processed: 87\n2023-02-21 21:56:48,944 - OEA - INFO - Ingesting from: stage1/Transactional/M365/v1.14/AadUser, batch type of: snapshot, source data format of: csv\n2023-02-21 21:56:50,955 - py4j.java_gateway - INFO - Received command c on object id p2\n2023-02-21 21:56:56,555 - OEA - INFO - Number of new inbound rows processed: 600\n2023-02-21 21:56:57,871 - OEA - INFO - Ingesting from: stage1/Transactional/M365/v1.14/AadUserPersonMapping, batch type of: snapshot, source data format of: csv\n2023-02-21 21:56:59,384 - py4j.java_gateway - INFO - Received command c on object id p3\n2023-02-21 21:57:03,450 - OEA - INFO - Number of new inbound rows processed: 600\n2023-02-21 21:57:05,100 - OEA - INFO - Ingesting from: stage1/Transactional/M365/v1.14/Course, batch type of: snapshot, source data format of: csv\n2023-02-21 21:57:06,795 - py4j.java_gateway - INFO - Received command c on object id p4\n2023-02-21 21:57:10,827 - OEA - INFO - Number of new inbound rows processed: 87\n2023-02-21 21:57:12,191 - OEA - INFO - Ingesting from: stage1/Transactional/M365/v1.14/CourseGradeLevel, batch type of: snapshot, source data format of: csv\n2023-02-21 21:57:13,725 - py4j.java_gateway - INFO - Received command c on object id p5\n2023-02-21 21:57:17,572 - OEA - INFO - Number of new inbound rows processed: 87\n2023-02-21 21:57:19,889 - OEA - INFO - Ingesting from: stage1/Transactional/M365/v1.14/CourseSubject, batch type of: snapshot, source data format of: csv\n2023-02-21 21:57:21,483 - py4j.java_gateway - INFO - Received command c on object id p6\n2023-02-21 21:57:24,963 - OEA - INFO - Number of new inbound rows processed: 87\n2023-02-21 21:57:26,410 - OEA - INFO - Ingesting from: stage1/Transactional/M365/v1.14/Enrollment, batch type of: snapshot, source data format of: csv\n2023-02-21 21:57:27,950 - py4j.java_gateway - INFO - Received command c on object id p7\n2023-02-21 21:57:32,621 - OEA - INFO - Number of new inbound rows processed: 3600\n2023-02-21 21:57:33,912 - OEA - INFO - Ingesting from: stage1/Transactional/M365/v1.14/Organization, batch type of: snapshot, source data format of: csv\n2023-02-21 21:57:35,527 - py4j.java_gateway - INFO - Received command c on object id p8\n2023-02-21 21:57:39,164 - OEA - INFO - Number of new inbound rows processed: 6\n2023-02-21 21:57:40,711 - OEA - INFO - Ingesting from: stage1/Transactional/M365/v1.14/Person, batch type of: snapshot, source data format of: csv\n2023-02-21 21:57:42,197 - py4j.java_gateway - INFO - Received command c on object id p9\n2023-02-21 21:57:45,991 - OEA - INFO - Number of new inbound rows processed: 600\n2023-02-21 21:57:47,324 - OEA - INFO - Ingesting from: stage1/Transactional/M365/v1.14/PersonDemographic, batch type of: snapshot, source data format of: csv\n2023-02-21 21:57:48,783 - py4j.java_gateway - INFO - Received command c on object id p10\n2023-02-21 21:57:52,430 - OEA - INFO - Number of new inbound rows processed: 600\n2023-02-21 21:57:55,093 - OEA - INFO - Ingesting from: stage1/Transactional/M365/v1.14/PersonDemographicEthnicity, batch type of: snapshot, source data format of: csv\n2023-02-21 21:57:56,688 - py4j.java_gateway - INFO - Received command c on object id p11\n2023-02-21 21:58:00,297 - OEA - INFO - Number of new inbound rows processed: 600\n2023-02-21 21:58:01,685 - OEA - INFO - Ingesting from: stage1/Transactional/M365/v1.14/PersonDemographicPersonFlag, batch type of: snapshot, source data format of: csv\n2023-02-21 21:58:03,302 - py4j.java_gateway - INFO - Received command c on object id p12\n2023-02-21 21:58:06,647 - OEA - INFO - Number of new inbound rows processed: 600\n2023-02-21 21:58:07,976 - OEA - INFO - Ingesting from: stage1/Transactional/M365/v1.14/PersonDemographicRace, batch type of: snapshot, source data format of: csv\n2023-02-21 21:58:09,589 - py4j.java_gateway - INFO - Received command c on object id p13\n2023-02-21 21:58:12,768 - OEA - INFO - Number of new inbound rows processed: 600\n2023-02-21 21:58:13,962 - OEA - INFO - Ingesting from: stage1/Transactional/M365/v1.14/PersonEmailAddress, batch type of: snapshot, source data format of: csv\n2023-02-21 21:58:15,517 - py4j.java_gateway - INFO - Received command c on object id p14\n2023-02-21 21:58:19,058 - OEA - INFO - Number of new inbound rows processed: 600\n2023-02-21 21:58:20,549 - OEA - INFO - Ingesting from: stage1/Transactional/M365/v1.14/PersonIdentifier, batch type of: snapshot, source data format of: csv\n2023-02-21 21:58:22,083 - py4j.java_gateway - INFO - Received command c on object id p15\n2023-02-21 21:58:25,495 - OEA - INFO - Number of new inbound rows processed: 600\n2023-02-21 21:58:26,805 - OEA - INFO - Ingesting from: stage1/Transactional/M365/v1.14/PersonOrganizationRole, batch type of: snapshot, source data format of: csv\n2023-02-21 21:58:28,517 - py4j.java_gateway - INFO - Received command c on object id p16\n2023-02-21 21:58:32,241 - OEA - INFO - Number of new inbound rows processed: 600\n2023-02-21 21:58:33,546 - OEA - INFO - Ingesting from: stage1/Transactional/M365/v1.14/PersonPhoneNumber, batch type of: snapshot, source data format of: csv\n2023-02-21 21:58:35,102 - py4j.java_gateway - INFO - Received command c on object id p17\n2023-02-21 21:58:38,403 - OEA - INFO - Number of new inbound rows processed: 600\n2023-02-21 21:58:39,630 - OEA - INFO - Ingesting from: stage1/Transactional/M365/v1.14/RefDefinition, batch type of: snapshot, source data format of: csv\n2023-02-21 21:58:41,166 - py4j.java_gateway - INFO - Received command c on object id p18\n2023-02-21 21:58:44,345 - OEA - INFO - Number of new inbound rows processed: 251\n2023-02-21 21:58:45,721 - OEA - INFO - Ingesting from: stage1/Transactional/M365/v1.14/Section, batch type of: snapshot, source data format of: csv\n2023-02-21 21:58:47,368 - py4j.java_gateway - INFO - Received command c on object id p19\n2023-02-21 21:58:50,415 - OEA - INFO - Number of new inbound rows processed: 87\n2023-02-21 21:58:51,672 - OEA - INFO - Ingesting from: stage1/Transactional/M365/v1.14/SectionGradeLevel, batch type of: snapshot, source data format of: csv\n2023-02-21 21:58:53,306 - py4j.java_gateway - INFO - Received command c on object id p20\n2023-02-21 21:58:56,265 - OEA - INFO - Number of new inbound rows processed: 87\n2023-02-21 21:58:57,505 - OEA - INFO - Ingesting from: stage1/Transactional/M365/v1.14/SectionSession, batch type of: snapshot, source data format of: csv\n2023-02-21 21:58:59,159 - py4j.java_gateway - INFO - Received command c on object id p21\n2023-02-21 21:59:02,292 - OEA - INFO - Number of new inbound rows processed: 87\n2023-02-21 21:59:03,530 - OEA - INFO - Ingesting from: stage1/Transactional/M365/v1.14/SectionSubject, batch type of: snapshot, source data format of: csv\n2023-02-21 21:59:05,051 - py4j.java_gateway - INFO - Received command c on object id p22\n2023-02-21 21:59:08,095 - OEA - INFO - Number of new inbound rows processed: 87\n2023-02-21 21:59:09,326 - OEA - INFO - Ingesting from: stage1/Transactional/M365/v1.14/Session, batch type of: snapshot, source data format of: csv\n2023-02-21 21:59:11,088 - py4j.java_gateway - INFO - Received command c on object id p23\n2023-02-21 21:59:14,130 - OEA - INFO - Number of new inbound rows processed: 2\n2023-02-21 21:59:15,385 - OEA - INFO - Ingesting from: stage1/Transactional/M365/v1.14/SourceSystem, batch type of: snapshot, source data format of: csv\n2023-02-21 21:59:16,856 - py4j.java_gateway - INFO - Received command c on object id p24\n2023-02-21 21:59:19,406 - OEA - INFO - Number of new inbound rows processed: 1\n"
          ]
        },
        {
          "output_type": "execute_result",
          "execution_count": 11,
          "data": {
            "text/plain": "1"
          },
          "metadata": {}
        }
      ],
      "execution_count": 5,
      "metadata": {
        "jupyter": {
          "source_hidden": false,
          "outputs_hidden": false
        },
        "nteract": {
          "transient": {
            "deleting": false
          }
        }
      }
    },
    {
      "cell_type": "code",
      "source": [
        "# 3.5) Now you can run queries against the auto-generated \"lake database\" with the ingested Insights/Reading Progress data.\r\n",
        "df = spark.sql(\"select * from ldb_sam_s2i_reading_progress_v0p1.activity\")\r\n",
        "display(df.limit(10))"
      ],
      "outputs": [
        {
          "output_type": "display_data",
          "data": {
            "application/vnd.livy.statement-meta+json": {
              "spark_pool": "spark3p2sm",
              "session_id": "146",
              "statement_id": 10,
              "state": "finished",
              "livy_statement_state": "available",
              "queued_time": "2023-02-21T21:59:58.2576539Z",
              "session_start_time": null,
              "execution_start_time": "2023-02-21T21:59:58.4236642Z",
              "execution_finish_time": "2023-02-21T22:00:01.2749594Z",
              "spark_jobs": null,
              "parent_msg_id": "7010bbdb-cafd-4543-b885-e51aa27681a4"
            },
            "text/plain": "StatementMeta(spark3p2sm, 146, 10, Finished, Available)"
          },
          "metadata": {}
        },
        {
          "output_type": "display_data",
          "data": {
            "application/vnd.synapse.widget-view+json": {
              "widget_id": "22db5602-7194-47ae-ace5-3bf7b8d8515e",
              "widget_type": "Synapse.DataFrame"
            },
            "text/plain": "SynapseWidget(Synapse.DataFrame, 22db5602-7194-47ae-ace5-3bf7b8d8515e)"
          },
          "metadata": {}
        }
      ],
      "execution_count": 11,
      "metadata": {
        "jupyter": {
          "source_hidden": false,
          "outputs_hidden": false
        },
        "nteract": {
          "transient": {
            "deleting": false
          }
        },
        "collapsed": false
      }
    },
    {
      "cell_type": "markdown",
      "source": [
        "## 4.) Reading Progress Schema Correction\r\n",
        "\r\n",
        "Directory: ```stage2/Ingested/reading_progress -> stage2/Ingested_Corrected/reading_progress```\r\n",
        "\r\n",
        "This step uses the same four functions from the \"ReadingProgress_schema_correction\" notebook, where the metadata.csv is used to correct each table's schema. Each table's schema is updated with the corrected column names and dtypes.\r\n",
        "\r\n",
        "After the schema is corrected, each table is written to stage2/Ingested_Corrected."
      ],
      "metadata": {
        "nteract": {
          "transient": {
            "deleting": false
          }
        }
      }
    },
    {
      "cell_type": "code",
      "source": [
        "# 4) schema correction, since Insights test data initially landed doesn't have column headers or correct dtypes.\r\n",
        "\r\n",
        "def _extract_element(lst, element_num=0):\r\n",
        "    return [item[element_num] for item in lst]\r\n",
        "\r\n",
        "def _dtype_config(dtype_lst):\r\n",
        "    return [item.capitalize() + 'Type()' for item in dtype_lst]\r\n",
        "\r\n",
        "def correct_insights_table_schema(df, table_name):\r\n",
        "    list_of_column_names = _extract_element(metadata[table_name])\r\n",
        "    list_of_column_dtypes = _extract_element(metadata[table_name], 1)\r\n",
        "    list_of_column_dtypes = _dtype_config(list_of_column_dtypes)\r\n",
        "\r\n",
        "    n = 0\r\n",
        "    df_updatedColumns = df\r\n",
        "    for c in df.columns:\r\n",
        "        if c != 'rundate':\r\n",
        "            new_col_name = list_of_column_names[n]\r\n",
        "            df_updatedColumns = df_updatedColumns.withColumnRenamed(c, new_col_name)\r\n",
        "            if list_of_column_dtypes[n] != 'StringType()':\r\n",
        "                if list_of_column_dtypes[n] == 'IntegerType()':\r\n",
        "                    df_updatedColumns = df_updatedColumns.withColumn(new_col_name, df_updatedColumns[new_col_name].cast(IntegerType()))\r\n",
        "                elif list_of_column_dtypes[n] == 'TimestampType()':\r\n",
        "                    df_updatedColumns = df_updatedColumns.withColumn(new_col_name, df_updatedColumns[new_col_name].cast(TimestampType()))\r\n",
        "                elif list_of_column_dtypes == 'ShortType()':\r\n",
        "                    df_updatedColumns = df_updatedColumns.withColumn(new_col_name, df_updatedColumns[new_col_name].cast(ShortType()))\r\n",
        "                elif list_of_column_dtypes[n] == 'LongType()':\r\n",
        "                    df_updatedColumns = df_updatedColumns.withColumn(new_col_name, df_updatedColumns[new_col_name].cast(LongType()))\r\n",
        "                elif list_of_column_dtypes[n] == 'DoubleType()':\r\n",
        "                    df_updatedColumns = df_updatedColumns.withColumn(new_col_name, df_updatedColumns[new_col_name].cast(DoubleType()))\r\n",
        "                elif list_of_column_dtypes[n] == 'DateType()':\r\n",
        "                    df_updatedColumns = df_updatedColumns.withColumn(new_col_name, df_updatedColumns[new_col_name].cast(DateType()))\r\n",
        "                elif list_of_column_dtypes[n] == 'BooleanType()':\r\n",
        "                    df_updatedColumns = df_updatedColumns.withColumn(new_col_name, df_updatedColumns[new_col_name].cast(BooleanType()))\r\n",
        "        else:\r\n",
        "            df_updatedColumns = df_updatedColumns\r\n",
        "        n = n + 1\r\n",
        "    return df_updatedColumns\r\n",
        "\r\n",
        "def correct_reading_progress_dataset(tables_source, write_destination):\r\n",
        "    items = oea.get_folders(tables_source)\r\n",
        "    for item in items: \r\n",
        "        if item == 'metadata.csv':\r\n",
        "            logger.info('ignore metadata processing, since this is not a table to be ingested')\r\n",
        "        else:\r\n",
        "            table_path = tables_source +'/'+ item\r\n",
        "            spark.sql(\"set spark.sql.streaming.schemaInference=true\")\r\n",
        "            streaming_df = spark.readStream.format('delta').load(oea.to_url(table_path))\r\n",
        "            df_corrected = correct_insights_table_schema(streaming_df, table_name=item)\r\n",
        "            query = df_corrected.writeStream.format('delta').outputMode('append').trigger(once=True).option('checkpointLocation', oea.to_url(table_path) + '/_checkpoints')\r\n",
        "            query = query.start(oea.to_url(write_destination + '/' +item))\r\n",
        "            query.awaitTermination() \r\n",
        "            logger.info('Successfully corrected the schema for table: ' + item + ' from: ' + table_path)"
      ],
      "outputs": [
        {
          "output_type": "display_data",
          "data": {
            "application/vnd.livy.statement-meta+json": {
              "spark_pool": "spark3p2sm",
              "session_id": "146",
              "statement_id": 11,
              "state": "finished",
              "livy_statement_state": "available",
              "queued_time": "2023-02-21T22:00:23.035321Z",
              "session_start_time": null,
              "execution_start_time": "2023-02-21T22:00:23.2258663Z",
              "execution_finish_time": "2023-02-21T22:00:23.387102Z",
              "spark_jobs": null,
              "parent_msg_id": "ee759363-e227-4b0b-9133-d28a785b2d32"
            },
            "text/plain": "StatementMeta(spark3p2sm, 146, 11, Finished, Available)"
          },
          "metadata": {}
        }
      ],
      "execution_count": 12,
      "metadata": {
        "jupyter": {
          "source_hidden": false,
          "outputs_hidden": false
        },
        "nteract": {
          "transient": {
            "deleting": false
          }
        }
      }
    },
    {
      "cell_type": "code",
      "source": [
        "metadata = oea.get_metadata_from_url('https://raw.githubusercontent.com/microsoft/OpenEduAnalytics/main/modules/module_catalog/Microsoft_Education_Insights/test_data/metadata.csv')\r\n",
        "correct_reading_progress_dataset('stage2/Ingested/reading_progress/v0.1', 'stage2/Ingested_Corrected/reading_progress/v0.1')"
      ],
      "outputs": [
        {
          "output_type": "display_data",
          "data": {
            "application/vnd.livy.statement-meta+json": {
              "spark_pool": "spark3p2sm",
              "session_id": "146",
              "statement_id": 12,
              "state": "finished",
              "livy_statement_state": "available",
              "queued_time": "2023-02-21T22:00:26.9501087Z",
              "session_start_time": null,
              "execution_start_time": "2023-02-21T22:00:27.1174056Z",
              "execution_finish_time": "2023-02-21T22:02:13.4104116Z",
              "spark_jobs": null,
              "parent_msg_id": "2435414f-f496-48bb-9d52-99f28769371c"
            },
            "text/plain": "StatementMeta(spark3p2sm, 146, 12, Finished, Available)"
          },
          "metadata": {}
        },
        {
          "output_type": "stream",
          "name": "stdout",
          "text": [
            "2023-02-21 22:00:32,747 - OEA - INFO - Successfully corrected the schema for table: AadGroup from: stage2/Ingested/reading_progress/v0.1/AadGroup\n2023-02-21 22:00:37,084 - OEA - INFO - Successfully corrected the schema for table: AadGroupMembership from: stage2/Ingested/reading_progress/v0.1/AadGroupMembership\n2023-02-21 22:00:41,209 - OEA - INFO - Successfully corrected the schema for table: AadUser from: stage2/Ingested/reading_progress/v0.1/AadUser\n2023-02-21 22:00:45,246 - OEA - INFO - Successfully corrected the schema for table: AadUserPersonMapping from: stage2/Ingested/reading_progress/v0.1/AadUserPersonMapping\n2023-02-21 22:00:48,871 - OEA - INFO - Successfully corrected the schema for table: Course from: stage2/Ingested/reading_progress/v0.1/Course\n2023-02-21 22:00:52,684 - OEA - INFO - Successfully corrected the schema for table: CourseGradeLevel from: stage2/Ingested/reading_progress/v0.1/CourseGradeLevel\n2023-02-21 22:00:56,436 - OEA - INFO - Successfully corrected the schema for table: CourseSubject from: stage2/Ingested/reading_progress/v0.1/CourseSubject\n2023-02-21 22:01:00,971 - OEA - INFO - Successfully corrected the schema for table: Enrollment from: stage2/Ingested/reading_progress/v0.1/Enrollment\n2023-02-21 22:01:04,653 - OEA - INFO - Successfully corrected the schema for table: Organization from: stage2/Ingested/reading_progress/v0.1/Organization\n2023-02-21 22:01:08,632 - OEA - INFO - Successfully corrected the schema for table: Person from: stage2/Ingested/reading_progress/v0.1/Person\n2023-02-21 22:01:12,507 - OEA - INFO - Successfully corrected the schema for table: PersonDemographic from: stage2/Ingested/reading_progress/v0.1/PersonDemographic\n2023-02-21 22:01:16,859 - OEA - INFO - Successfully corrected the schema for table: PersonDemographicEthnicity from: stage2/Ingested/reading_progress/v0.1/PersonDemographicEthnicity\n2023-02-21 22:01:20,585 - OEA - INFO - Successfully corrected the schema for table: PersonDemographicPersonFlag from: stage2/Ingested/reading_progress/v0.1/PersonDemographicPersonFlag\n2023-02-21 22:01:24,336 - OEA - INFO - Successfully corrected the schema for table: PersonDemographicRace from: stage2/Ingested/reading_progress/v0.1/PersonDemographicRace\n2023-02-21 22:01:28,232 - OEA - INFO - Successfully corrected the schema for table: PersonEmailAddress from: stage2/Ingested/reading_progress/v0.1/PersonEmailAddress\n2023-02-21 22:01:32,092 - OEA - INFO - Successfully corrected the schema for table: PersonIdentifier from: stage2/Ingested/reading_progress/v0.1/PersonIdentifier\n2023-02-21 22:01:36,552 - OEA - INFO - Successfully corrected the schema for table: PersonOrganizationRole from: stage2/Ingested/reading_progress/v0.1/PersonOrganizationRole\n2023-02-21 22:01:40,155 - OEA - INFO - Successfully corrected the schema for table: PersonPhoneNumber from: stage2/Ingested/reading_progress/v0.1/PersonPhoneNumber\n2023-02-21 22:01:43,784 - OEA - INFO - Successfully corrected the schema for table: RefDefinition from: stage2/Ingested/reading_progress/v0.1/RefDefinition\n2023-02-21 22:01:47,402 - OEA - INFO - Successfully corrected the schema for table: Section from: stage2/Ingested/reading_progress/v0.1/Section\n2023-02-21 22:01:51,070 - OEA - INFO - Successfully corrected the schema for table: SectionGradeLevel from: stage2/Ingested/reading_progress/v0.1/SectionGradeLevel\n2023-02-21 22:01:54,792 - OEA - INFO - Successfully corrected the schema for table: SectionSession from: stage2/Ingested/reading_progress/v0.1/SectionSession\n2023-02-21 22:01:58,327 - OEA - INFO - Successfully corrected the schema for table: SectionSubject from: stage2/Ingested/reading_progress/v0.1/SectionSubject\n2023-02-21 22:02:02,196 - OEA - INFO - Successfully corrected the schema for table: Session from: stage2/Ingested/reading_progress/v0.1/Session\n2023-02-21 22:02:05,713 - OEA - INFO - Successfully corrected the schema for table: SourceSystem from: stage2/Ingested/reading_progress/v0.1/SourceSystem\n2023-02-21 22:02:11,687 - OEA - INFO - Successfully corrected the schema for table: activity from: stage2/Ingested/reading_progress/v0.1/activity\n"
          ]
        }
      ],
      "execution_count": 13,
      "metadata": {
        "jupyter": {
          "source_hidden": false,
          "outputs_hidden": false
        },
        "nteract": {
          "transient": {
            "deleting": false
          }
        }
      }
    },
    {
      "cell_type": "code",
      "source": [
        "df = spark.read.format('delta').load(oea.to_url('stage2/Ingested_Corrected/reading_progress/v0.1/activity'), header='true')\r\n",
        "display(df.limit(10))"
      ],
      "outputs": [
        {
          "output_type": "display_data",
          "data": {
            "application/vnd.livy.statement-meta+json": {
              "spark_pool": "spark3p2sm",
              "session_id": "146",
              "statement_id": 13,
              "state": "finished",
              "livy_statement_state": "available",
              "queued_time": "2023-02-21T22:02:29.0571134Z",
              "session_start_time": null,
              "execution_start_time": "2023-02-21T22:02:29.1849465Z",
              "execution_finish_time": "2023-02-21T22:02:31.0811728Z",
              "spark_jobs": null,
              "parent_msg_id": "897a68c9-b3ff-4769-bbcd-843b327bdd86"
            },
            "text/plain": "StatementMeta(spark3p2sm, 146, 13, Finished, Available)"
          },
          "metadata": {}
        },
        {
          "output_type": "display_data",
          "data": {
            "application/vnd.synapse.widget-view+json": {
              "widget_id": "366cd25e-ab7a-4842-9e5e-9ae21e587814",
              "widget_type": "Synapse.DataFrame"
            },
            "text/plain": "SynapseWidget(Synapse.DataFrame, 366cd25e-ab7a-4842-9e5e-9ae21e587814)"
          },
          "metadata": {}
        }
      ],
      "execution_count": 14,
      "metadata": {
        "jupyter": {
          "source_hidden": false,
          "outputs_hidden": false
        },
        "nteract": {
          "transient": {
            "deleting": false
          }
        },
        "collapsed": false
      }
    },
    {
      "cell_type": "code",
      "source": [
        "df.printSchema()"
      ],
      "outputs": [
        {
          "output_type": "display_data",
          "data": {
            "application/vnd.livy.statement-meta+json": {
              "spark_pool": "spark3p2sm",
              "session_id": "146",
              "statement_id": 14,
              "state": "finished",
              "livy_statement_state": "available",
              "queued_time": "2023-02-21T22:02:34.7769174Z",
              "session_start_time": null,
              "execution_start_time": "2023-02-21T22:02:34.9289245Z",
              "execution_finish_time": "2023-02-21T22:02:35.0797616Z",
              "spark_jobs": null,
              "parent_msg_id": "85381bd4-52c9-489b-989e-9ef3fc62cdfe"
            },
            "text/plain": "StatementMeta(spark3p2sm, 146, 14, Finished, Available)"
          },
          "metadata": {}
        },
        {
          "output_type": "stream",
          "name": "stdout",
          "text": [
            "root\n |-- SignalType: string (nullable = true)\n |-- StartTime: timestamp (nullable = true)\n |-- UserAgent: string (nullable = true)\n |-- SignalId: string (nullable = true)\n |-- SisClassId: string (nullable = true)\n |-- ClassId: string (nullable = true)\n |-- ChannelId: string (nullable = true)\n |-- AppName: string (nullable = true)\n |-- ActorId: string (nullable = true)\n |-- ActorRole: string (nullable = true)\n |-- SchemaVersion: string (nullable = true)\n |-- AssignmentId: string (nullable = true)\n |-- SubmissionId: string (nullable = true)\n |-- SubmissionCreatedTime: timestamp (nullable = true)\n |-- Action: string (nullable = true)\n |-- DueDate: timestamp (nullable = true)\n |-- ClassCreationDate: timestamp (nullable = true)\n |-- Grade: double (nullable = true)\n |-- SourceFileExtension: string (nullable = true)\n |-- MeetingDuration: string (nullable = true)\n |-- MeetingSessionId: string (nullable = true)\n |-- MeetingType: string (nullable = true)\n |-- ReadingSubmissionWordsPerMinute: integer (nullable = true)\n |-- ReadingSubmissionAccuracyScore: string (nullable = true)\n |-- ReadingSubmissionMispronunciationCount: integer (nullable = true)\n |-- ReadingSubmissionRepetitionsCount: integer (nullable = true)\n |-- ReadingSubmissionInsertionsCount: integer (nullable = true)\n |-- ReadingSubmissionObmissionCount: integer (nullable = true)\n |-- ReadingSubmissionAttemptNumber: integer (nullable = true)\n |-- ReadingAssignmentWordCount: integer (nullable = true)\n |-- ReadingAssignmentFleschKincaidGradeLevel: string (nullable = true)\n |-- ReadingAssignmentLanguage: string (nullable = true)\n |-- rundate: timestamp (nullable = true)\n\n"
          ]
        }
      ],
      "execution_count": 15,
      "metadata": {
        "jupyter": {
          "source_hidden": false,
          "outputs_hidden": false
        },
        "nteract": {
          "transient": {
            "deleting": false
          }
        }
      }
    },
    {
      "cell_type": "markdown",
      "source": [
        "## 5.) Refine the Reading Progress Module Test Data\r\n",
        "\r\n",
        "Directory: ```stage2/Ingested_Corrected/reading_progress -> stage2/Refined/reading_progress```\r\n",
        "\r\n",
        "This step then refines the Insights test data from stage2/Ingested_Corrected to stage2/Refined, using the metadata.csv. This step is responsible for :\r\n",
        " - pseudonymization (which preserves sensitive student information by either hashing or masking the sensitive columns), and \r\n",
        " - data transformation (to fit the Reading Progress module schema). \r\n",
        "\r\n",
        "Tables are separated into either ```stage2/Refined/reading_progress/v0.1/general``` or ```stage2/Refined/reading_progress/v0.1/sensitive```, depending on whether each table is pseudonymized or has a sensitive column-hashing/masking mapping, respectively.\r\n",
        "\r\n",
        "\r\n",
        "**To-Do's:**\r\n",
        " - Find workaround for creating lookup tables, when the primary key is un-hashed after pseudonymization \r\n",
        "    * (i.e. *affected tables*: PersonDemographicEthnicity, PersonDemographicPersonFlag, PersonDemographicRace, PersonEmailAddress, PersonIdentifier, PersonOrganizationRole, and PersonPhoneNumber). \r\n",
        " - Resolve ingesting and refining AadGroupMembership table."
      ],
      "metadata": {
        "nteract": {
          "transient": {
            "deleting": false
          }
        }
      }
    },
    {
      "cell_type": "code",
      "source": [
        "# 2) this step refines the data through the use of metadata (this is where the pseudonymization of the data occurs).\r\n",
        "def refine_reading_prog_corrected(df, table_name, metadata=None, primary_key='id'):\r\n",
        "    source_path = f'stage2/Ingested_Corrected/reading_progress/v0.1/activity'\r\n",
        "    sink_general_path = f'stage2/Refined/reading_progress/v0.1/general/{table_name}'\r\n",
        "    sink_sensitive_path = f'stage2/Refined/reading_progress/v0.1/sensitive/{table_name}_lookup'\r\n",
        "\r\n",
        "    # NOTE: Currently does not accomodate change data; this is expected to be updated for production purposes\r\n",
        "    #df_changes = oea.get_latest_changes(source_path, sink_general_path)\r\n",
        "    spark_schema = oea.to_spark_schema(metadata)\r\n",
        "    df = oea.modify_schema(df, spark_schema)        \r\n",
        "\r\n",
        "    if df.count() > 0:\r\n",
        "        df_pseudo, df_lookup = oea.pseudonymize(df, metadata)\r\n",
        "        oea.upsert(df_pseudo, sink_general_path, primary_key)\r\n",
        "        oea.upsert(df_lookup, sink_sensitive_path, primary_key)\r\n",
        "        oea.add_to_lake_db(sink_general_path)\r\n",
        "        oea.add_to_lake_db(sink_sensitive_path)\r\n",
        "        logger.info(f'Processed {df.count()} rows from {source_path} into stage2/Refined')\r\n",
        "    else:\r\n",
        "        logger.info(f'No updated rows in {source_path} to process.')\r\n",
        "    return df.count()\r\n",
        "\r\n",
        "def refine_reading_progress_dataset(tables_source):\r\n",
        "    # read in relevant tables for data transformation\r\n",
        "    base_path = tables_source\r\n",
        "    df_activity = oea.load(base_path + '/activity')\r\n",
        "    df_aaduserpersonmapping = oea.load(base_path + '/AadUserPersonMapping')\r\n",
        "    df_person = oea.load(base_path + '/Person/')\r\n",
        "    df_personOrgRole = oea.load(base_path + '/PersonOrganizationRole')\r\n",
        "    df_organization = oea.load(base_path + '/Organization')\r\n",
        "    df_refDefinition = oea.load(base_path + '/RefDefinition')\r\n",
        "    # separate student frame, subset and refine data\r\n",
        "    dfStudent = df_personOrgRole.join(df_person, df_personOrgRole.PersonId == df_person.Id, how='inner')\r\n",
        "    dfStudent = dfStudent.select('PersonId', 'Surname', 'GivenName', 'MiddleName', 'RefRoleId', 'RefGradeLevelId', 'OrganizationId')\r\n",
        "    dfStudent = dfStudent.join(df_organization, dfStudent.OrganizationId == df_organization.Id, how='inner').withColumnRenamed('Name', 'OrganizationName')\r\n",
        "    dfStudent = dfStudent.select('PersonId', 'Surname', 'GivenName', 'MiddleName', 'RefRoleId', 'RefGradeLevelId', 'OrganizationId', 'OrganizationName')\r\n",
        "    dfStudent = dfStudent.join(df_refDefinition, dfStudent.RefRoleId == df_refDefinition.Id, how='inner').withColumnRenamed('Code', 'PersonRole')\r\n",
        "    dfStudent = dfStudent.select('PersonId', 'Surname', 'GivenName', 'MiddleName', 'PersonRole', 'RefGradeLevelId', 'OrganizationId', 'OrganizationName')\r\n",
        "    dfStudent = dfStudent.filter(dfStudent['PersonRole'] == 'Student')\r\n",
        "    dfStudent = dfStudent.join(df_refDefinition, dfStudent.RefGradeLevelId == df_refDefinition.Id, how='left').withColumnRenamed('Code', 'StudentGrade')\r\n",
        "    dfStudent = dfStudent.select('PersonId', 'Surname', 'GivenName', 'MiddleName', 'PersonRole', 'StudentGrade', 'OrganizationId', 'OrganizationName')\r\n",
        "    df_aaduserpersonmapping = df_aaduserpersonmapping.withColumnRenamed('PersonId', 'id')\r\n",
        "    dfStudent = dfStudent.join(df_aaduserpersonmapping, dfStudent.PersonId == df_aaduserpersonmapping.id, how='inner').withColumnRenamed('ObjectId', 'AadUserId')\r\n",
        "    dfStudent = dfStudent.select('PersonId', 'AadUserId', 'Surname', 'GivenName', 'MiddleName', 'PersonRole', 'StudentGrade', 'OrganizationId', 'OrganizationName')\r\n",
        "\r\n",
        "    refine_reading_prog_corrected(dfStudent, 'Student', metadata['Student'], 'PersonId_pseudonym')\r\n",
        "    # refine reading progress data from Insights activity table\r\n",
        "    dfReadingProgress = df_activity.where(\"AppName == 'ReadingProgress'\")\r\n",
        "    dfReadingProgress = dfReadingProgress.select('ActorId', 'SignalId', 'SignalType', 'StartTime', 'AppName', 'Action', 'ClassId', 'ReadingSubmissionWordsPerMinute', 'ReadingSubmissionAccuracyScore', \\\r\n",
        "                                        'ReadingSubmissionRepetitionsCount', 'ReadingSubmissionInsertionsCount', 'ReadingSubmissionMispronunciationCount', 'ReadingSubmissionObmissionCount', 'ReadingSubmissionAttemptNumber', \\\r\n",
        "                                        'ReadingAssignmentWordCount', 'ReadingAssignmentFleschKincaidGradeLevel', 'ReadingAssignmentLanguage')\r\n",
        "    dfReadingProgress = dfReadingProgress.withColumnRenamed('ActorId', 'AadUserId').withColumnRenamed('ClassId', 'AadGroupId')\r\n",
        "    dfReadingProgress = dfReadingProgress.withColumn('ReadingSubmissionAccuracyScore', dfReadingProgress['ReadingSubmissionAccuracyScore'].cast(DoubleType()))\r\n",
        "    dfReadingProgress = dfReadingProgress.withColumn('ReadingSubmissionRepetitionsRate', F.col('ReadingSubmissionRepetitionsCount')/F.col('ReadingAssignmentWordCount') * 100) \r\n",
        "    dfReadingProgress = dfReadingProgress.withColumn('ReadingSubmissionRepetitionsRate', F.round(F.col('ReadingSubmissionRepetitionsRate'), 3))\r\n",
        "    dfReadingProgress = dfReadingProgress.withColumn('ReadingSubmissionMispronunciationRate', F.col('ReadingSubmissionMispronunciationCount')/F.col('ReadingAssignmentWordCount') * 100) \r\n",
        "    dfReadingProgress = dfReadingProgress.withColumn('ReadingSubmissionMispronunciationRate', F.round(F.col('ReadingSubmissionMispronunciationRate'), 3))\r\n",
        "    dfReadingProgress = dfReadingProgress.withColumn('ReadingSubmissionInsertionsRate', F.col('ReadingSubmissionInsertionsCount')/F.col('ReadingAssignmentWordCount') * 100) \r\n",
        "    dfReadingProgress = dfReadingProgress.withColumn('ReadingSubmissionInsertionsRate', F.round(F.col('ReadingSubmissionInsertionsRate'), 3))\r\n",
        "    dfReadingProgress = dfReadingProgress.withColumn('ReadingSubmissionObmissionRate', F.col('ReadingSubmissionObmissionCount')/F.col('ReadingAssignmentWordCount') * 100) \r\n",
        "    dfReadingProgress = dfReadingProgress.withColumn('ReadingSubmissionObmissionRate', F.round(F.col('ReadingSubmissionObmissionRate'), 3))\r\n",
        "\r\n",
        "    try:\r\n",
        "        refine_reading_prog_corrected(dfReadingProgress, 'ReadingProgress_activity', metadata['ReadingProgress_activity'], 'SignalId')\r\n",
        "    except AnalysisException as e:\r\n",
        "        # This means the table may have not been properly refined due to errors with the primary key not aligning with columns expected in the lookup table.\r\n",
        "        pass\r\n",
        "    \r\n",
        "    logger.info('Finished refining Reading Progress tables.')"
      ],
      "outputs": [
        {
          "output_type": "display_data",
          "data": {
            "application/vnd.livy.statement-meta+json": {
              "spark_pool": "spark3p2sm",
              "session_id": "146",
              "statement_id": 33,
              "state": "finished",
              "livy_statement_state": "available",
              "queued_time": "2023-02-21T22:31:18.6982087Z",
              "session_start_time": null,
              "execution_start_time": "2023-02-21T22:31:18.8641051Z",
              "execution_finish_time": "2023-02-21T22:31:19.0223968Z",
              "spark_jobs": null,
              "parent_msg_id": "41d70f20-3889-4478-bbea-ae8d94e05501"
            },
            "text/plain": "StatementMeta(spark3p2sm, 146, 33, Finished, Available)"
          },
          "metadata": {}
        }
      ],
      "execution_count": 34,
      "metadata": {
        "jupyter": {
          "source_hidden": false,
          "outputs_hidden": false
        },
        "nteract": {
          "transient": {
            "deleting": false
          }
        }
      }
    },
    {
      "cell_type": "code",
      "source": [
        "metadata = oea.get_metadata_from_url('https://raw.githubusercontent.com/microsoft/OpenEduAnalytics/main/modules/module_catalog/Reading_Progress/data/metadata.csv')\r\n",
        "refine_reading_progress_dataset('stage2/Ingested_Corrected/reading_progress/v0.1')"
      ],
      "outputs": [
        {
          "output_type": "display_data",
          "data": {
            "application/vnd.livy.statement-meta+json": {
              "spark_pool": "spark3p2sm",
              "session_id": "146",
              "statement_id": 34,
              "state": "finished",
              "livy_statement_state": "available",
              "queued_time": "2023-02-21T22:31:44.2331821Z",
              "session_start_time": null,
              "execution_start_time": "2023-02-21T22:31:44.3609336Z",
              "execution_finish_time": "2023-02-21T22:32:05.7623497Z",
              "spark_jobs": null,
              "parent_msg_id": "1ece6a10-e707-4712-ae5f-2a624a0970f7"
            },
            "text/plain": "StatementMeta(spark3p2sm, 146, 34, Finished, Available)"
          },
          "metadata": {}
        },
        {
          "output_type": "stream",
          "name": "stdout",
          "text": [
            "2023-02-21 22:31:59,162 - OEA - INFO - Processed 600 rows from stage2/Ingested_Corrected/reading_progress/v0.1/activity into stage2/Refined\n2023-02-21 22:32:05,634 - OEA - INFO - Finished refining Reading Progress tables.\n"
          ]
        }
      ],
      "execution_count": 35,
      "metadata": {
        "jupyter": {
          "source_hidden": false,
          "outputs_hidden": false
        },
        "nteract": {
          "transient": {
            "deleting": false
          }
        }
      }
    },
    {
      "cell_type": "code",
      "source": [
        "oea.add_to_lake_db('stage2/Refined/reading_progress/v0.1/general/ReadingProgress_activity')"
      ],
      "outputs": [
        {
          "output_type": "display_data",
          "data": {
            "application/vnd.livy.statement-meta+json": {
              "spark_pool": "spark3p2sm",
              "session_id": "146",
              "statement_id": 35,
              "state": "finished",
              "livy_statement_state": "available",
              "queued_time": "2023-02-21T22:33:19.8246238Z",
              "session_start_time": null,
              "execution_start_time": "2023-02-21T22:33:19.9481426Z",
              "execution_finish_time": "2023-02-21T22:33:21.8153632Z",
              "spark_jobs": null,
              "parent_msg_id": "76e308e0-1060-48ab-9625-da80e1ccf208"
            },
            "text/plain": "StatementMeta(spark3p2sm, 146, 35, Finished, Available)"
          },
          "metadata": {}
        }
      ],
      "execution_count": 36,
      "metadata": {
        "jupyter": {
          "source_hidden": false,
          "outputs_hidden": false
        },
        "nteract": {
          "transient": {
            "deleting": false
          }
        }
      }
    },
    {
      "cell_type": "code",
      "source": [
        "df = spark.read.format('delta').load(oea.to_url('stage2/Refined/reading_progress/v0.1/general/Student'), header='true')\r\n",
        "display(df.limit(10))\r\n",
        "df = spark.read.format('delta').load(oea.to_url('stage2/Refined/reading_progress/v0.1/general/ReadingProgress_activity'), header='true')\r\n",
        "display(df.limit(10))"
      ],
      "outputs": [
        {
          "output_type": "display_data",
          "data": {
            "application/vnd.livy.statement-meta+json": {
              "spark_pool": "spark3p2sm",
              "session_id": "146",
              "statement_id": 37,
              "state": "finished",
              "livy_statement_state": "available",
              "queued_time": "2023-02-21T22:34:39.2537452Z",
              "session_start_time": null,
              "execution_start_time": "2023-02-21T22:34:39.3714545Z",
              "execution_finish_time": "2023-02-21T22:34:41.2416374Z",
              "spark_jobs": null,
              "parent_msg_id": "edd14c81-59e8-4b37-8aac-7680352cdfd1"
            },
            "text/plain": "StatementMeta(spark3p2sm, 146, 37, Finished, Available)"
          },
          "metadata": {}
        },
        {
          "output_type": "display_data",
          "data": {
            "application/vnd.synapse.widget-view+json": {
              "widget_id": "ed42724c-1f53-4ecc-8683-fcbecb213225",
              "widget_type": "Synapse.DataFrame"
            },
            "text/plain": "SynapseWidget(Synapse.DataFrame, ed42724c-1f53-4ecc-8683-fcbecb213225)"
          },
          "metadata": {}
        },
        {
          "output_type": "display_data",
          "data": {
            "application/vnd.synapse.widget-view+json": {
              "widget_id": "05061724-8464-45f9-ae30-10151fcfa969",
              "widget_type": "Synapse.DataFrame"
            },
            "text/plain": "SynapseWidget(Synapse.DataFrame, 05061724-8464-45f9-ae30-10151fcfa969)"
          },
          "metadata": {}
        }
      ],
      "execution_count": 38,
      "metadata": {
        "jupyter": {
          "source_hidden": false,
          "outputs_hidden": false
        },
        "nteract": {
          "transient": {
            "deleting": false
          }
        },
        "collapsed": false
      }
    },
    {
      "cell_type": "markdown",
      "source": [
        "## 6.) Demonstrate Lake Database Queries/Final Remarks"
      ],
      "metadata": {
        "nteract": {
          "transient": {
            "deleting": false
          }
        }
      }
    },
    {
      "cell_type": "code",
      "source": [
        "# Run this cell to reset this example (deleting all the example Insights data in your workspace)\r\n",
        "oea.rm_if_exists('stage1/Transactional/reading_progress')\r\n",
        "oea.rm_if_exists('stage2/Ingested/reading_progress')\r\n",
        "oea.rm_if_exists('stage2/Ingested_Corrected/reading_progress')\r\n",
        "oea.rm_if_exists('stage2/Refined/reading_progress')\r\n",
        "oea.drop_lake_db('ldb_sam_s2i_reading_progress_v0p1')\r\n",
        "oea.drop_lake_db('ldb_sam_s2r_reading_progress_v0p1')"
      ],
      "outputs": [],
      "execution_count": 19,
      "metadata": {
        "jupyter": {
          "source_hidden": false,
          "outputs_hidden": false
        },
        "nteract": {
          "transient": {
            "deleting": false
          }
        }
      }
    },
    {
      "cell_type": "markdown",
      "source": [
        "## Appendix"
      ],
      "metadata": {
        "nteract": {
          "transient": {
            "deleting": false
          }
        }
      }
    },
    {
      "cell_type": "code",
      "source": [
        "# generate an initial metadata file for manual modification\r\n",
        "metadata = oea.create_metadata_from_lake_db('ldb_sam_s2i_reading_progress_v0p1')\r\n",
        "dlw = DataLakeWriter(oea.to_url('stage1/Transactional/reading_progress'))\r\n",
        "dlw.write('metadata.csv', metadata)"
      ],
      "outputs": [],
      "execution_count": null,
      "metadata": {
        "jupyter": {
          "source_hidden": false,
          "outputs_hidden": false
        },
        "nteract": {
          "transient": {
            "deleting": false
          }
        }
      }
    },
    {
      "cell_type": "code",
      "source": [
        "# Create a sql db for the ingested Reading Progress data\r\n",
        "oea.create_sql_db('stage2/Ingested/reading_progress')"
      ],
      "outputs": [],
      "execution_count": null,
      "metadata": {
        "jupyter": {
          "source_hidden": false,
          "outputs_hidden": false
        },
        "nteract": {
          "transient": {
            "deleting": false
          }
        }
      }
    }
  ],
  "metadata": {
    "kernelspec": {
      "name": "synapse_pyspark",
      "language": "Python",
      "display_name": "Synapse PySpark"
    },
    "language_info": {
      "name": "python"
    },
    "kernel_info": {
      "name": "synapse_pyspark"
    },
    "description": null,
    "save_output": true,
    "synapse_widget": {
      "version": "0.1",
      "state": {
        "22db5602-7194-47ae-ace5-3bf7b8d8515e": {
          "type": "Synapse.DataFrame",
          "sync_state": {
            "table": {
              "rows": [
                {
                  "0": "FileModified",
                  "1": "2022-01-11",
                  "3": "00b47bac-3bd8-4691-9542-a70120d76f16",
                  "7": "Sharepoint",
                  "8": "ab5f03d2-28af-421f-8cb8-20b1bb21e8ee",
                  "9": "Student",
                  "10": "1.6",
                  "11": "a56f8645-ca5c-4db7-97dc-7be11cd2da1b",
                  "15": "2022-01-16",
                  "16": "2022-01-03 00:00:00",
                  "18": "docx",
                  "32": "2023-02-21 21:55:13"
                },
                {
                  "0": "FileAccessed",
                  "1": "2022-01-08",
                  "3": "01e3a1c7-5e11-4c8e-af8e-560ee87e326a",
                  "7": "Sharepoint",
                  "8": "e35e11eb-d65c-4050-8221-a849aec34255",
                  "9": "Student",
                  "10": "1.6",
                  "11": "a9476eb6-108c-4d37-89cb-f4b3f90dc201",
                  "15": "2022-01-22",
                  "16": "2022-01-03 00:00:00",
                  "18": "docx",
                  "32": "2023-02-21 21:55:13"
                },
                {
                  "0": "ReadingSubmission",
                  "1": "2022-01-16",
                  "3": "02869fc4-9278-4ff5-b195-0c8a742dc245",
                  "7": "ReadingProgress",
                  "8": "b3d6035f-f350-4ef6-9b41-ebe79dedba25",
                  "9": "Student",
                  "10": "1.6",
                  "12": "f8119d22-9167-4a8b-999b-3193586073f5",
                  "14": "Visited",
                  "16": "2022-01-03 00:00:00",
                  "22": "49",
                  "23": "92",
                  "24": "20",
                  "25": "1",
                  "26": "71",
                  "27": "10",
                  "28": "1",
                  "29": "265",
                  "32": "2023-02-21 21:55:13"
                },
                {
                  "0": "FileDownloaded",
                  "1": "2022-01-16",
                  "3": "02d5558d-5c79-4ebe-b6ff-520a151e97a0",
                  "7": "Sharepoint",
                  "8": "3f5abd73-1529-4b23-9468-6511dbf89965",
                  "9": "Student",
                  "10": "1.6",
                  "11": "bc4acfb9-8912-4515-a5d1-b031ca346665",
                  "15": "2022-01-23",
                  "16": "2022-01-03 00:00:00",
                  "18": "pptx",
                  "32": "2023-02-21 21:55:13"
                },
                {
                  "0": "ReadingSubmission",
                  "1": "2022-01-15",
                  "3": "040c6187-396b-4ecc-8aaf-3e725c78a621",
                  "7": "ReadingProgress",
                  "8": "0bfa8b7a-a310-4d41-8faf-7180450b08a4",
                  "9": "Student",
                  "10": "1.6",
                  "12": "ecfb5043-01bb-48a6-87c6-2a1fbfedec8f",
                  "14": "Attempt",
                  "16": "2022-01-03 00:00:00",
                  "22": "59",
                  "23": "65",
                  "24": "11",
                  "25": "0",
                  "26": "52",
                  "27": "22",
                  "28": "2",
                  "29": "265",
                  "32": "2023-02-21 21:55:13"
                },
                {
                  "0": "FileAccessed",
                  "1": "2022-01-27",
                  "3": "044e9031-8970-44b4-987f-6e372103ca4f",
                  "7": "Sharepoint",
                  "8": "c0662a92-2588-406f-b25c-87adb964712c",
                  "9": "Student",
                  "10": "1.6",
                  "11": "0ed0b9b7-b2db-4bf3-a7db-2538dfea527c",
                  "15": "2022-01-30",
                  "16": "2022-01-03 00:00:00",
                  "18": "xlsx",
                  "32": "2023-02-21 21:55:13"
                },
                {
                  "0": "CommentDeleted",
                  "1": "2022-01-20",
                  "3": "055d244c-a4c9-43bb-a0be-d828c1e39aaa",
                  "7": "Sharepoint",
                  "8": "59237a7a-4419-4082-8704-da3436976ad2",
                  "9": "Student",
                  "10": "1.6",
                  "16": "2022-01-03 00:00:00",
                  "32": "2023-02-21 21:55:13"
                },
                {
                  "0": "Like",
                  "1": "2022-01-08",
                  "3": "05c72063-e4d4-40d0-b5c5-15c5048d893c",
                  "7": "Sharepoint",
                  "8": "18c2e300-0235-41de-9562-c8612a2052ab",
                  "9": "Student",
                  "10": "1.6",
                  "16": "2022-01-03 00:00:00",
                  "32": "2023-02-21 21:55:13"
                },
                {
                  "0": "OneNotePageChanged",
                  "1": "2022-01-08",
                  "3": "061e6aa8-cf6f-4a42-a1dc-253d2a85bbfc",
                  "7": "OneNote",
                  "8": "7a180e00-1b81-4e42-bf1b-fbc919e73f42",
                  "9": "Student",
                  "10": "1.6",
                  "16": "2022-01-03 00:00:00",
                  "32": "2023-02-21 21:55:13"
                },
                {
                  "0": "FileModified",
                  "1": "2022-01-05",
                  "3": "065f3083-34f2-4c5f-8fea-ad75dfd98c19",
                  "7": "Sharepoint",
                  "8": "4f5e224a-53b8-4bdd-818a-d40eb8a7ef33",
                  "9": "Student",
                  "10": "1.6",
                  "11": "1c4e41a6-208f-47d1-8336-41db4d527551",
                  "15": "2022-01-06",
                  "16": "2022-01-03 00:00:00",
                  "18": "xlsx",
                  "32": "2023-02-21 21:55:13"
                }
              ],
              "schema": [
                {
                  "key": "0",
                  "name": "_c0",
                  "type": "string"
                },
                {
                  "key": "1",
                  "name": "_c1",
                  "type": "string"
                },
                {
                  "key": "2",
                  "name": "_c2",
                  "type": "string"
                },
                {
                  "key": "3",
                  "name": "_c3",
                  "type": "string"
                },
                {
                  "key": "4",
                  "name": "_c4",
                  "type": "string"
                },
                {
                  "key": "5",
                  "name": "_c5",
                  "type": "string"
                },
                {
                  "key": "6",
                  "name": "_c6",
                  "type": "string"
                },
                {
                  "key": "7",
                  "name": "_c7",
                  "type": "string"
                },
                {
                  "key": "8",
                  "name": "_c8",
                  "type": "string"
                },
                {
                  "key": "9",
                  "name": "_c9",
                  "type": "string"
                },
                {
                  "key": "10",
                  "name": "_c10",
                  "type": "string"
                },
                {
                  "key": "11",
                  "name": "_c11",
                  "type": "string"
                },
                {
                  "key": "12",
                  "name": "_c12",
                  "type": "string"
                },
                {
                  "key": "13",
                  "name": "_c13",
                  "type": "string"
                },
                {
                  "key": "14",
                  "name": "_c14",
                  "type": "string"
                },
                {
                  "key": "15",
                  "name": "_c15",
                  "type": "string"
                },
                {
                  "key": "16",
                  "name": "_c16",
                  "type": "string"
                },
                {
                  "key": "17",
                  "name": "_c17",
                  "type": "string"
                },
                {
                  "key": "18",
                  "name": "_c18",
                  "type": "string"
                },
                {
                  "key": "19",
                  "name": "_c19",
                  "type": "string"
                },
                {
                  "key": "20",
                  "name": "_c20",
                  "type": "string"
                },
                {
                  "key": "21",
                  "name": "_c21",
                  "type": "string"
                },
                {
                  "key": "22",
                  "name": "_c22",
                  "type": "string"
                },
                {
                  "key": "23",
                  "name": "_c23",
                  "type": "string"
                },
                {
                  "key": "24",
                  "name": "_c24",
                  "type": "string"
                },
                {
                  "key": "25",
                  "name": "_c25",
                  "type": "string"
                },
                {
                  "key": "26",
                  "name": "_c26",
                  "type": "string"
                },
                {
                  "key": "27",
                  "name": "_c27",
                  "type": "string"
                },
                {
                  "key": "28",
                  "name": "_c28",
                  "type": "string"
                },
                {
                  "key": "29",
                  "name": "_c29",
                  "type": "string"
                },
                {
                  "key": "30",
                  "name": "_c30",
                  "type": "string"
                },
                {
                  "key": "31",
                  "name": "_c31",
                  "type": "string"
                },
                {
                  "key": "32",
                  "name": "rundate",
                  "type": "timestamp"
                }
              ],
              "truncated": false
            },
            "isSummary": false,
            "language": "scala"
          },
          "persist_state": {
            "view": {
              "type": "details",
              "tableOptions": {},
              "chartOptions": {
                "chartType": "bar",
                "aggregationType": "count",
                "categoryFieldKeys": [
                  "0"
                ],
                "seriesFieldKeys": [
                  "0"
                ],
                "isStacked": false
              }
            }
          }
        },
        "366cd25e-ab7a-4842-9e5e-9ae21e587814": {
          "type": "Synapse.DataFrame",
          "sync_state": {
            "table": {
              "rows": [
                {
                  "0": "FileModified",
                  "1": "2022-01-11 00:00:00",
                  "3": "00b47bac-3bd8-4691-9542-a70120d76f16",
                  "7": "Sharepoint",
                  "8": "ab5f03d2-28af-421f-8cb8-20b1bb21e8ee",
                  "9": "Student",
                  "10": "1.6",
                  "11": "a56f8645-ca5c-4db7-97dc-7be11cd2da1b",
                  "15": "2022-01-16 00:00:00",
                  "16": "2022-01-03 00:00:00",
                  "18": "docx",
                  "32": "2023-02-21 21:55:13"
                },
                {
                  "0": "FileAccessed",
                  "1": "2022-01-08 00:00:00",
                  "3": "01e3a1c7-5e11-4c8e-af8e-560ee87e326a",
                  "7": "Sharepoint",
                  "8": "e35e11eb-d65c-4050-8221-a849aec34255",
                  "9": "Student",
                  "10": "1.6",
                  "11": "a9476eb6-108c-4d37-89cb-f4b3f90dc201",
                  "15": "2022-01-22 00:00:00",
                  "16": "2022-01-03 00:00:00",
                  "18": "docx",
                  "32": "2023-02-21 21:55:13"
                },
                {
                  "0": "ReadingSubmission",
                  "1": "2022-01-16 00:00:00",
                  "3": "02869fc4-9278-4ff5-b195-0c8a742dc245",
                  "7": "ReadingProgress",
                  "8": "b3d6035f-f350-4ef6-9b41-ebe79dedba25",
                  "9": "Student",
                  "10": "1.6",
                  "12": "f8119d22-9167-4a8b-999b-3193586073f5",
                  "14": "Visited",
                  "16": "2022-01-03 00:00:00",
                  "22": "49",
                  "23": "92",
                  "24": "20",
                  "25": "1",
                  "26": "71",
                  "27": "10",
                  "28": "1",
                  "29": "265",
                  "32": "2023-02-21 21:55:13"
                },
                {
                  "0": "FileDownloaded",
                  "1": "2022-01-16 00:00:00",
                  "3": "02d5558d-5c79-4ebe-b6ff-520a151e97a0",
                  "7": "Sharepoint",
                  "8": "3f5abd73-1529-4b23-9468-6511dbf89965",
                  "9": "Student",
                  "10": "1.6",
                  "11": "bc4acfb9-8912-4515-a5d1-b031ca346665",
                  "15": "2022-01-23 00:00:00",
                  "16": "2022-01-03 00:00:00",
                  "18": "pptx",
                  "32": "2023-02-21 21:55:13"
                },
                {
                  "0": "ReadingSubmission",
                  "1": "2022-01-15 00:00:00",
                  "3": "040c6187-396b-4ecc-8aaf-3e725c78a621",
                  "7": "ReadingProgress",
                  "8": "0bfa8b7a-a310-4d41-8faf-7180450b08a4",
                  "9": "Student",
                  "10": "1.6",
                  "12": "ecfb5043-01bb-48a6-87c6-2a1fbfedec8f",
                  "14": "Attempt",
                  "16": "2022-01-03 00:00:00",
                  "22": "59",
                  "23": "65",
                  "24": "11",
                  "25": "0",
                  "26": "52",
                  "27": "22",
                  "28": "2",
                  "29": "265",
                  "32": "2023-02-21 21:55:13"
                },
                {
                  "0": "FileAccessed",
                  "1": "2022-01-27 00:00:00",
                  "3": "044e9031-8970-44b4-987f-6e372103ca4f",
                  "7": "Sharepoint",
                  "8": "c0662a92-2588-406f-b25c-87adb964712c",
                  "9": "Student",
                  "10": "1.6",
                  "11": "0ed0b9b7-b2db-4bf3-a7db-2538dfea527c",
                  "15": "2022-01-30 00:00:00",
                  "16": "2022-01-03 00:00:00",
                  "18": "xlsx",
                  "32": "2023-02-21 21:55:13"
                },
                {
                  "0": "CommentDeleted",
                  "1": "2022-01-20 00:00:00",
                  "3": "055d244c-a4c9-43bb-a0be-d828c1e39aaa",
                  "7": "Sharepoint",
                  "8": "59237a7a-4419-4082-8704-da3436976ad2",
                  "9": "Student",
                  "10": "1.6",
                  "16": "2022-01-03 00:00:00",
                  "32": "2023-02-21 21:55:13"
                },
                {
                  "0": "Like",
                  "1": "2022-01-08 00:00:00",
                  "3": "05c72063-e4d4-40d0-b5c5-15c5048d893c",
                  "7": "Sharepoint",
                  "8": "18c2e300-0235-41de-9562-c8612a2052ab",
                  "9": "Student",
                  "10": "1.6",
                  "16": "2022-01-03 00:00:00",
                  "32": "2023-02-21 21:55:13"
                },
                {
                  "0": "OneNotePageChanged",
                  "1": "2022-01-08 00:00:00",
                  "3": "061e6aa8-cf6f-4a42-a1dc-253d2a85bbfc",
                  "7": "OneNote",
                  "8": "7a180e00-1b81-4e42-bf1b-fbc919e73f42",
                  "9": "Student",
                  "10": "1.6",
                  "16": "2022-01-03 00:00:00",
                  "32": "2023-02-21 21:55:13"
                },
                {
                  "0": "FileModified",
                  "1": "2022-01-05 00:00:00",
                  "3": "065f3083-34f2-4c5f-8fea-ad75dfd98c19",
                  "7": "Sharepoint",
                  "8": "4f5e224a-53b8-4bdd-818a-d40eb8a7ef33",
                  "9": "Student",
                  "10": "1.6",
                  "11": "1c4e41a6-208f-47d1-8336-41db4d527551",
                  "15": "2022-01-06 00:00:00",
                  "16": "2022-01-03 00:00:00",
                  "18": "xlsx",
                  "32": "2023-02-21 21:55:13"
                }
              ],
              "schema": [
                {
                  "key": "0",
                  "name": "SignalType",
                  "type": "string"
                },
                {
                  "key": "1",
                  "name": "StartTime",
                  "type": "timestamp"
                },
                {
                  "key": "2",
                  "name": "UserAgent",
                  "type": "string"
                },
                {
                  "key": "3",
                  "name": "SignalId",
                  "type": "string"
                },
                {
                  "key": "4",
                  "name": "SisClassId",
                  "type": "string"
                },
                {
                  "key": "5",
                  "name": "ClassId",
                  "type": "string"
                },
                {
                  "key": "6",
                  "name": "ChannelId",
                  "type": "string"
                },
                {
                  "key": "7",
                  "name": "AppName",
                  "type": "string"
                },
                {
                  "key": "8",
                  "name": "ActorId",
                  "type": "string"
                },
                {
                  "key": "9",
                  "name": "ActorRole",
                  "type": "string"
                },
                {
                  "key": "10",
                  "name": "SchemaVersion",
                  "type": "string"
                },
                {
                  "key": "11",
                  "name": "AssignmentId",
                  "type": "string"
                },
                {
                  "key": "12",
                  "name": "SubmissionId",
                  "type": "string"
                },
                {
                  "key": "13",
                  "name": "SubmissionCreatedTime",
                  "type": "timestamp"
                },
                {
                  "key": "14",
                  "name": "Action",
                  "type": "string"
                },
                {
                  "key": "15",
                  "name": "DueDate",
                  "type": "timestamp"
                },
                {
                  "key": "16",
                  "name": "ClassCreationDate",
                  "type": "timestamp"
                },
                {
                  "key": "17",
                  "name": "Grade",
                  "type": "double"
                },
                {
                  "key": "18",
                  "name": "SourceFileExtension",
                  "type": "string"
                },
                {
                  "key": "19",
                  "name": "MeetingDuration",
                  "type": "string"
                },
                {
                  "key": "20",
                  "name": "MeetingSessionId",
                  "type": "string"
                },
                {
                  "key": "21",
                  "name": "MeetingType",
                  "type": "string"
                },
                {
                  "key": "22",
                  "name": "ReadingSubmissionWordsPerMinute",
                  "type": "int"
                },
                {
                  "key": "23",
                  "name": "ReadingSubmissionAccuracyScore",
                  "type": "string"
                },
                {
                  "key": "24",
                  "name": "ReadingSubmissionMispronunciationCount",
                  "type": "int"
                },
                {
                  "key": "25",
                  "name": "ReadingSubmissionRepetitionsCount",
                  "type": "int"
                },
                {
                  "key": "26",
                  "name": "ReadingSubmissionInsertionsCount",
                  "type": "int"
                },
                {
                  "key": "27",
                  "name": "ReadingSubmissionObmissionCount",
                  "type": "int"
                },
                {
                  "key": "28",
                  "name": "ReadingSubmissionAttemptNumber",
                  "type": "int"
                },
                {
                  "key": "29",
                  "name": "ReadingAssignmentWordCount",
                  "type": "int"
                },
                {
                  "key": "30",
                  "name": "ReadingAssignmentFleschKincaidGradeLevel",
                  "type": "string"
                },
                {
                  "key": "31",
                  "name": "ReadingAssignmentLanguage",
                  "type": "string"
                },
                {
                  "key": "32",
                  "name": "rundate",
                  "type": "timestamp"
                }
              ],
              "truncated": false
            },
            "isSummary": false,
            "language": "scala"
          },
          "persist_state": {
            "view": {
              "type": "details",
              "tableOptions": {},
              "chartOptions": {
                "chartType": "bar",
                "aggregationType": "sum",
                "categoryFieldKeys": [
                  "0"
                ],
                "seriesFieldKeys": [
                  "17"
                ],
                "isStacked": false
              }
            }
          }
        },
        "ed42724c-1f53-4ecc-8683-fcbecb213225": {
          "type": "Synapse.DataFrame",
          "sync_state": {
            "table": {
              "rows": [
                {
                  "0": "00ca7e5f8ce45764a91aa581e6570d37f0bb3e6124ea6caa674f8c8fe14852c2",
                  "1": "2fb5d49c0ea4cc8ef915b9edc8878f855e0238ab40a12de92e9b7217ac77224f",
                  "2": "*",
                  "3": "*",
                  "4": "*",
                  "5": "Student",
                  "6": "10",
                  "7": "79ab1377-61f3-4462-95c8-284cb10201b8",
                  "8": "Hampton High"
                },
                {
                  "0": "011b986ba636c64a89ad2d589d8d79ad5e2c7f773af7679e93c019163b8d8fbe",
                  "1": "7c90a6dac725d63b09bd1c7bcd988086002a02de908d08815ac77aa4c3532bd1",
                  "2": "*",
                  "3": "*",
                  "4": "*",
                  "5": "Student",
                  "6": "11",
                  "7": "00b46bad-eb1d-41d3-ad11-16095144a56f",
                  "8": "Gallagher High"
                },
                {
                  "0": "018ea7a21369996ff9a9ab1e014317afefa2dbb29e7772f23a2aa674e922ac59",
                  "1": "e1f03230b3a714c4a9894aecba66fd1ab568c838265ef88b514358f76863a800",
                  "2": "*",
                  "3": "*",
                  "4": "*",
                  "5": "Student",
                  "6": "10",
                  "7": "c4a80b3b-710f-4207-bf05-7688c6b6d5c5",
                  "8": "Thompson High"
                },
                {
                  "0": "01c6bdbdbc2b8dd605095183256617de2db873784d540d3bfcf12722be5c2f57",
                  "1": "f388b53c6a47708358fd44e865d8445179c4c17ca823a4d5ff0061d25d564417",
                  "2": "*",
                  "3": "*",
                  "4": "*",
                  "5": "Student",
                  "6": "12",
                  "7": "79ab1377-61f3-4462-95c8-284cb10201b8",
                  "8": "Hampton High"
                },
                {
                  "0": "0409b472ce93761f55adeee5729a85a6d20e0adb9ca1352a41257f297c0d21a8",
                  "1": "663f7eaf67053101ffa27d5ac978b107fd9cbf607a081febd15fdb16ff25dff5",
                  "2": "*",
                  "3": "*",
                  "4": "*",
                  "5": "Student",
                  "6": "12",
                  "7": "79ab1377-61f3-4462-95c8-284cb10201b8",
                  "8": "Hampton High"
                },
                {
                  "0": "0441f5288265348a9cf1aaa7f9e6500906d9f97d683e4b0b34af2fc463a37274",
                  "1": "7b83760539a229aa9e81ac8007a225e940663220afdefd0fb685708cdc50f38f",
                  "2": "*",
                  "3": "*",
                  "4": "*",
                  "5": "Student",
                  "6": "12",
                  "7": "421b6506-5b1c-45b1-8f9f-d65a35bbcf32",
                  "8": "Robinson High"
                },
                {
                  "0": "051c5e2561a712c7ee76cd721c9aeae01eaee9fa38619dd08dc1786211a7520d",
                  "1": "d1fc52e496b51a75706ed4f0a25db76c2b5d12fab5a013724e1d5a1d52bcdd2b",
                  "2": "*",
                  "3": "*",
                  "4": "*",
                  "5": "Student",
                  "6": "11",
                  "7": "421b6506-5b1c-45b1-8f9f-d65a35bbcf32",
                  "8": "Robinson High"
                },
                {
                  "0": "05246da7667729dfee0e4bdc21e0ceff0cec2eb847c0cfcdd688a85b47feffe4",
                  "1": "ee6652127414d2a7a800880fd465461cf4346c2a4055a672dae8c1fde26c724f",
                  "2": "*",
                  "3": "*",
                  "4": "*",
                  "5": "Student",
                  "6": "10",
                  "7": "00b46bad-eb1d-41d3-ad11-16095144a56f",
                  "8": "Gallagher High"
                },
                {
                  "0": "058853db472a6bb8aa5b02b3d087a0b5b4b5a479aedd62042524ccf8046a268a",
                  "1": "1ef143acba0dc4b6d42fa414455fa1e6830af8f98786769caa4e5188c1570d9d",
                  "2": "*",
                  "3": "*",
                  "4": "*",
                  "5": "Student",
                  "6": "11",
                  "7": "00b46bad-eb1d-41d3-ad11-16095144a56f",
                  "8": "Gallagher High"
                },
                {
                  "0": "061f52c99cba02a5df6472c1d522be72492fef224779645f499c19a3ba4458f0",
                  "1": "6b397ce68e745698c96c77f0ec1b252ed580d3e5a8f494264a9f5aa84a88568a",
                  "2": "*",
                  "3": "*",
                  "4": "*",
                  "5": "Student",
                  "6": "12",
                  "7": "c4a80b3b-710f-4207-bf05-7688c6b6d5c5",
                  "8": "Thompson High"
                }
              ],
              "schema": [
                {
                  "key": "0",
                  "name": "PersonId_pseudonym",
                  "type": "string"
                },
                {
                  "key": "1",
                  "name": "AadUserId_pseudonym",
                  "type": "string"
                },
                {
                  "key": "2",
                  "name": "Surname",
                  "type": "string"
                },
                {
                  "key": "3",
                  "name": "GivenName",
                  "type": "string"
                },
                {
                  "key": "4",
                  "name": "MiddleName",
                  "type": "string"
                },
                {
                  "key": "5",
                  "name": "PersonRole",
                  "type": "string"
                },
                {
                  "key": "6",
                  "name": "StudentGrade",
                  "type": "string"
                },
                {
                  "key": "7",
                  "name": "OrganizationId",
                  "type": "string"
                },
                {
                  "key": "8",
                  "name": "OrganizationName",
                  "type": "string"
                }
              ],
              "truncated": false
            },
            "isSummary": false,
            "language": "scala"
          },
          "persist_state": {
            "view": {
              "type": "details",
              "tableOptions": {},
              "chartOptions": {
                "chartType": "bar",
                "aggregationType": "count",
                "categoryFieldKeys": [
                  "0"
                ],
                "seriesFieldKeys": [
                  "0"
                ],
                "isStacked": false
              }
            }
          }
        },
        "05061724-8464-45f9-ae30-10151fcfa969": {
          "type": "Synapse.DataFrame",
          "sync_state": {
            "table": {
              "rows": [
                {
                  "0": "2ee2c2c9ee2d21c59beafc377fb35669cd374614212477cb816235b7f9a0600a",
                  "1": "0017fb3d-41be-4159-accb-a0507ea712f4",
                  "2": "ReadingSubmission",
                  "3": "2022-01-20 00:00:00",
                  "4": "ReadingProgress",
                  "5": "Attempt",
                  "7": "73",
                  "8": "71.0",
                  "9": "0",
                  "10": "33",
                  "11": "8",
                  "12": "10",
                  "13": "3",
                  "14": "185",
                  "17": "0.0",
                  "18": "4.324",
                  "19": "17.838",
                  "20": "5.405"
                },
                {
                  "0": "6b7892e810fd3e3b27397a3086cb00a9ca3e190ed85af478c46dd41ec3d21a5c",
                  "1": "002424be-a8b7-45aa-b439-42a9b2c03b72",
                  "2": "ReadingSubmission",
                  "3": "2022-01-13 00:00:00",
                  "4": "ReadingProgress",
                  "5": "Visited",
                  "7": "92",
                  "8": "72.0",
                  "9": "1",
                  "10": "51",
                  "11": "4",
                  "12": "26",
                  "13": "1",
                  "14": "390",
                  "17": "0.256",
                  "18": "1.026",
                  "19": "13.077",
                  "20": "6.667"
                },
                {
                  "0": "99d89313067bf8c0de4a27f6f3e9fafbeed2253fade011851c61856e6252736c",
                  "1": "0024c9a4-db55-47d6-a8fc-deb3cb77dd8a",
                  "2": "ReadingSubmission",
                  "3": "2022-01-04 00:00:00",
                  "4": "ReadingProgress",
                  "5": "Attempt",
                  "7": "39",
                  "8": "100.0",
                  "9": "5",
                  "10": "15",
                  "11": "10",
                  "12": "27",
                  "13": "1",
                  "14": "265",
                  "17": "1.887",
                  "18": "3.774",
                  "19": "5.66",
                  "20": "10.189"
                },
                {
                  "0": "0e822d841234d9c1b6463c4fb3acb1e92f38ac0a5cfb9844c8b188ce079e7df4",
                  "1": "002f26d7-9559-4d5b-9090-a78935617718",
                  "2": "ReadingSubmission",
                  "3": "2022-01-13 00:00:00",
                  "4": "ReadingProgress",
                  "5": "Attempt",
                  "7": "92",
                  "8": "80.0",
                  "9": "3",
                  "10": "22",
                  "11": "9",
                  "12": "1",
                  "13": "2",
                  "14": "63",
                  "17": "4.762",
                  "18": "14.286",
                  "19": "34.921",
                  "20": "1.587"
                },
                {
                  "0": "aa09458587565625594a8b96b91b4f4947e3f4440ceded60e14263cc2b8b8185",
                  "1": "0076591c-4873-460c-afc6-14b4a3baada8",
                  "2": "ReadingSubmission",
                  "3": "2022-01-20 00:00:00",
                  "4": "ReadingProgress",
                  "5": "Visited",
                  "7": "80",
                  "8": "85.0",
                  "9": "6",
                  "10": "54",
                  "11": "7",
                  "12": "19",
                  "13": "1",
                  "14": "390",
                  "17": "1.538",
                  "18": "1.795",
                  "19": "13.846",
                  "20": "4.872"
                },
                {
                  "0": "f0d2c8e13ed56bf7601209ed977627d56c53b2a746c96d692e98d8a44ab45565",
                  "1": "00911b8c-6686-47ae-8bb8-02ec8db130c4",
                  "2": "ReadingSubmission",
                  "3": "2022-01-06 00:00:00",
                  "4": "ReadingProgress",
                  "5": "Attempt",
                  "7": "88",
                  "8": "94.0",
                  "9": "0",
                  "10": "68",
                  "11": "5",
                  "12": "14",
                  "13": "2",
                  "14": "390",
                  "17": "0.0",
                  "18": "1.282",
                  "19": "17.436",
                  "20": "3.59"
                },
                {
                  "0": "ee750a09cc3716108521b69f767f080a46232ab1b3d96c3164457ba961cc1ee2",
                  "1": "00a57b36-397b-4871-b3be-7f1069396a7b",
                  "2": "ReadingSubmission",
                  "3": "2022-01-05 00:00:00",
                  "4": "ReadingProgress",
                  "5": "Attempt",
                  "7": "39",
                  "8": "67.0",
                  "9": "3",
                  "10": "43",
                  "11": "23",
                  "12": "3",
                  "13": "1",
                  "14": "378",
                  "17": "0.794",
                  "18": "6.085",
                  "19": "11.376",
                  "20": "0.794"
                },
                {
                  "0": "9fb4d5c557512378404907b8c184a0c2a43c11576ea8ad0802a7b9e1926756c5",
                  "1": "00b478e9-d15e-4eec-ab67-e6fa57841921",
                  "2": "ReadingSubmission",
                  "3": "2022-01-07 00:00:00",
                  "4": "ReadingProgress",
                  "5": "Attempt",
                  "7": "98",
                  "8": "100.0",
                  "9": "0",
                  "10": "64",
                  "11": "18",
                  "12": "1",
                  "13": "0",
                  "14": "265",
                  "17": "0.0",
                  "18": "6.792",
                  "19": "24.151",
                  "20": "0.377"
                },
                {
                  "0": "5f45a491e264314d8f1e4c041591eb8507ef14b79a624305ec9c35f39a54ed46",
                  "1": "00e25589-8147-4447-9a23-a0a1d0e12cde",
                  "2": "ReadingSubmission",
                  "3": "2022-01-16 00:00:00",
                  "4": "ReadingProgress",
                  "5": "Visited",
                  "7": "101",
                  "8": "91.0",
                  "9": "3",
                  "10": "3",
                  "11": "30",
                  "12": "10",
                  "13": "0",
                  "14": "265",
                  "17": "1.132",
                  "18": "11.321",
                  "19": "1.132",
                  "20": "3.774"
                },
                {
                  "0": "2a9ff5ab7c7ea4442a28e25996533be2ddcd06d4eaaf11bb442e1ce0221e4448",
                  "1": "00e519e0-309b-4521-91df-910794490a25",
                  "2": "ReadingSubmission",
                  "3": "2022-01-03 00:00:00",
                  "4": "ReadingProgress",
                  "5": "Attempt",
                  "7": "87",
                  "8": "89.0",
                  "9": "0",
                  "10": "23",
                  "11": "4",
                  "12": "10",
                  "13": "1",
                  "14": "362",
                  "17": "0.0",
                  "18": "1.105",
                  "19": "6.354",
                  "20": "2.762"
                }
              ],
              "schema": [
                {
                  "key": "0",
                  "name": "AadUserId_pseudonym",
                  "type": "string"
                },
                {
                  "key": "1",
                  "name": "SignalId",
                  "type": "string"
                },
                {
                  "key": "2",
                  "name": "SignalType",
                  "type": "string"
                },
                {
                  "key": "3",
                  "name": "StartTime",
                  "type": "timestamp"
                },
                {
                  "key": "4",
                  "name": "AppName",
                  "type": "string"
                },
                {
                  "key": "5",
                  "name": "Action",
                  "type": "string"
                },
                {
                  "key": "6",
                  "name": "AadGroupId",
                  "type": "string"
                },
                {
                  "key": "7",
                  "name": "ReadingSubmissionWordsPerMinute",
                  "type": "int"
                },
                {
                  "key": "8",
                  "name": "ReadingSubmissionAccuracyScore",
                  "type": "double"
                },
                {
                  "key": "9",
                  "name": "ReadingSubmissionRepetitionsCount",
                  "type": "int"
                },
                {
                  "key": "10",
                  "name": "ReadingSubmissionInsertionsCount",
                  "type": "int"
                },
                {
                  "key": "11",
                  "name": "ReadingSubmissionMispronunciationCount",
                  "type": "int"
                },
                {
                  "key": "12",
                  "name": "ReadingSubmissionObmissionCount",
                  "type": "int"
                },
                {
                  "key": "13",
                  "name": "ReadingSubmissionAttemptNumber",
                  "type": "int"
                },
                {
                  "key": "14",
                  "name": "ReadingAssignmentWordCount",
                  "type": "int"
                },
                {
                  "key": "15",
                  "name": "ReadingAssignmentFleschKincaidGradeLevel",
                  "type": "string"
                },
                {
                  "key": "16",
                  "name": "ReadingAssignmentLanguage",
                  "type": "string"
                },
                {
                  "key": "17",
                  "name": "ReadingSubmissionRepetitionsRate",
                  "type": "double"
                },
                {
                  "key": "18",
                  "name": "ReadingSubmissionMispronunciationRate",
                  "type": "double"
                },
                {
                  "key": "19",
                  "name": "ReadingSubmissionInsertionsRate",
                  "type": "double"
                },
                {
                  "key": "20",
                  "name": "ReadingSubmissionObmissionRate",
                  "type": "double"
                }
              ],
              "truncated": false
            },
            "isSummary": false,
            "language": "scala"
          },
          "persist_state": {
            "view": {
              "type": "details",
              "tableOptions": {},
              "chartOptions": {
                "chartType": "bar",
                "aggregationType": "sum",
                "categoryFieldKeys": [
                  "0"
                ],
                "seriesFieldKeys": [
                  "7"
                ],
                "isStacked": false
              }
            }
          }
        }
      }
    }
  },
  "nbformat": 4,
  "nbformat_minor": 2
}